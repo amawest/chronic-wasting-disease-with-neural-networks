{
 "cells": [
  {
   "cell_type": "markdown",
   "metadata": {},
   "source": [
    "## CNN-LSTM Model\n",
    "Amanda West (acw9gs), Ben Cosgro, Sean Grace\n",
    "\n",
    "**Helpful Links:**\n",
    "- https://machinelearningmastery.com/how-to-develop-rnn-models-for-human-activity-recognition-time-series-classification/\n",
    "- https://medium.com/riga-data-science-club/geographic-coordinate-encoding-with-tensorflow-feature-columns-e750ae338b7c\n",
    "- https://melvincabatuan.github.io/Keras-Tutorial-Deep-Learning-in-Python-Walkthrough/\n",
    "\n",
    "\n",
    "**Random Thoughts:**\n",
    "- What if we bootstrapped to make additional positive CWD cases to train the neural network?"
   ]
  },
  {
   "cell_type": "code",
   "execution_count": 289,
   "metadata": {},
   "outputs": [],
   "source": [
    "# import libraries\n",
    "import pandas as pd\n",
    "import numpy as np\n",
    "import matplotlib.pyplot as plt\n",
    "from sklearn.model_selection import train_test_split\n",
    "import tensorflow as tf\n",
    "from keras.layers import Conv1D, Conv2D, MaxPooling1D, MaxPooling2D\n",
    "from tensorflow.keras.models import Sequential\n",
    "from keras.layers import Dense, Dropout, Activation, Flatten, SimpleRNN\n",
    "from tensorflow.keras.layers import Dense\n",
    "from tensorflow.keras.layers import LSTM\n",
    "from keras.layers import TimeDistributed\n",
    "from keras.optimizers import RMSprop\n",
    "import keras\n",
    "from keras.callbacks import ModelCheckpoint, EarlyStopping\n",
    "from keras.preprocessing.sequence import TimeseriesGenerator\n",
    "\n",
    "# read in the data\n",
    "deer = pd.read_csv(\"DMA1_withlatlong.csv\")"
   ]
  },
  {
   "cell_type": "code",
   "execution_count": 291,
   "metadata": {},
   "outputs": [],
   "source": [
    "deer = pd.read_csv(\"fullstategrid.csv\")"
   ]
  },
  {
   "cell_type": "code",
   "execution_count": 292,
   "metadata": {},
   "outputs": [],
   "source": [
    "deer.drop(columns=['Unnamed: 0'], inplace=True)\n",
    "deer = deer[deer['Sample Date']<13]\n",
    "deer = deer[deer['Lat_Cent']>38]\n",
    "deer = deer[deer['Long_Cent']<-77]\n",
    "deer.drop(columns=['Sample Date'], inplace=True)"
   ]
  },
  {
   "cell_type": "code",
   "execution_count": 293,
   "metadata": {},
   "outputs": [],
   "source": [
    "test = deer.to_numpy()\n",
    "test = test.reshape(12,9909,3).swapaxes(1,2).T"
   ]
  },
  {
   "cell_type": "code",
   "execution_count": 294,
   "metadata": {},
   "outputs": [
    {
     "data": {
      "text/plain": [
       "array([[0., 0., 0., ..., 0., 0., 0.],\n",
       "       [0., 0., 0., ..., 0., 0., 0.],\n",
       "       [0., 0., 0., ..., 0., 0., 0.],\n",
       "       ...,\n",
       "       [0., 0., 0., ..., 0., 0., 0.],\n",
       "       [0., 0., 0., ..., 0., 0., 0.],\n",
       "       [0., 0., 0., ..., 0., 0., 0.]])"
      ]
     },
     "execution_count": 294,
     "metadata": {},
     "output_type": "execute_result"
    }
   ],
   "source": [
    "test[:,2,:]"
   ]
  },
  {
   "cell_type": "code",
   "execution_count": 274,
   "metadata": {},
   "outputs": [
    {
     "data": {
      "text/plain": [
       "{0.0: 118843, 1.0: 65}"
      ]
     },
     "execution_count": 274,
     "metadata": {},
     "output_type": "execute_result"
    }
   ],
   "source": [
    "unique, counts = np.unique(test[:,2,:], return_counts=True)\n",
    "dict(zip(unique, counts))"
   ]
  },
  {
   "cell_type": "code",
   "execution_count": 256,
   "metadata": {},
   "outputs": [
    {
     "data": {
      "text/plain": [
       "9909.0"
      ]
     },
     "execution_count": 256,
     "metadata": {},
     "output_type": "execute_result"
    }
   ],
   "source": [
    "import numpy as np\n",
    "#Generate 24 element 1D array and reshape to 6 rows and 4 columns\n",
    "a_Array = np.arange(24).reshape(6, 4)\n",
    "#reshape to distribute data along axis 2 then axis 1 and then axis 0 in order, \n",
    "#this is what numpy reshape does by default\n",
    "a_Array.reshape(2,3,4)\n",
    "#Swap axes 1 and 2\n",
    "a_Array.reshape(2,3,4).swapaxes(1,2)\n",
    "#Transpose to arrange data with data distributed along axis 1\n",
    "a_Array.reshape(2,3,4).swapaxes(1,2).T"
   ]
  },
  {
   "cell_type": "code",
   "execution_count": 173,
   "metadata": {
    "scrolled": true
   },
   "outputs": [
    {
     "data": {
      "text/html": [
       "<div>\n",
       "<style scoped>\n",
       "    .dataframe tbody tr th:only-of-type {\n",
       "        vertical-align: middle;\n",
       "    }\n",
       "\n",
       "    .dataframe tbody tr th {\n",
       "        vertical-align: top;\n",
       "    }\n",
       "\n",
       "    .dataframe thead th {\n",
       "        text-align: right;\n",
       "    }\n",
       "</style>\n",
       "<table border=\"1\" class=\"dataframe\">\n",
       "  <thead>\n",
       "    <tr style=\"text-align: right;\">\n",
       "      <th></th>\n",
       "      <th>Sample Date</th>\n",
       "      <th>Lat_Cent</th>\n",
       "      <th>Long_Cent</th>\n",
       "      <th>Status</th>\n",
       "    </tr>\n",
       "  </thead>\n",
       "  <tbody>\n",
       "    <tr>\n",
       "      <th>0</th>\n",
       "      <td>1</td>\n",
       "      <td>38.746075</td>\n",
       "      <td>-78.668046</td>\n",
       "      <td>0</td>\n",
       "    </tr>\n",
       "    <tr>\n",
       "      <th>1</th>\n",
       "      <td>1</td>\n",
       "      <td>38.745704</td>\n",
       "      <td>-78.649542</td>\n",
       "      <td>0</td>\n",
       "    </tr>\n",
       "  </tbody>\n",
       "</table>\n",
       "</div>"
      ],
      "text/plain": [
       "   Sample Date   Lat_Cent  Long_Cent  Status\n",
       "0            1  38.746075 -78.668046       0\n",
       "1            1  38.745704 -78.649542       0"
      ]
     },
     "execution_count": 173,
     "metadata": {},
     "output_type": "execute_result"
    }
   ],
   "source": [
    "deer.head(2)"
   ]
  },
  {
   "cell_type": "code",
   "execution_count": 50,
   "metadata": {},
   "outputs": [],
   "source": [
    "### 3 loss functions\n",
    "#status\n",
    "#lat\n",
    "#long\n",
    "#potentially convert year/month to sequential numbers"
   ]
  },
  {
   "cell_type": "code",
   "execution_count": 51,
   "metadata": {},
   "outputs": [],
   "source": [
    "# reshuffle so Status is first (for x-y split a few lines down)\n",
    "deer = deer[['Status', 'Sample Date', 'Lat_Cent', 'Long_Cent','Age', 'Sex', \n",
    "             'Active - Hunter Killed', 'Active - Other', 'Active - Road-Killed',\n",
    "             'Targeted - Other', 'Targeted-Clinical suspect']]\n",
    "deer['Sample Date'] = pd.to_datetime(deer['Sample Date'])\n",
    "deer['Age'] = pd.to_numeric(deer['Age'],errors='coerce')"
   ]
  },
  {
   "cell_type": "code",
   "execution_count": 174,
   "metadata": {},
   "outputs": [],
   "source": [
    "deer = deer.dropna()"
   ]
  },
  {
   "cell_type": "code",
   "execution_count": 160,
   "metadata": {},
   "outputs": [
    {
     "data": {
      "text/plain": [
       "<AxesSubplot:>"
      ]
     },
     "execution_count": 160,
     "metadata": {},
     "output_type": "execute_result"
    },
    {
     "data": {
      "image/png": "[encoded data removed]",
      "text/plain": [
       "<Figure size 432x288 with 1 Axes>"
      ]
     },
     "metadata": {
      "needs_background": "light"
     },
     "output_type": "display_data"
    }
   ],
   "source": [
    "deer[deer['Status']==1]['Sample Date'].hist(bins=12)"
   ]
  },
  {
   "cell_type": "code",
   "execution_count": 115,
   "metadata": {},
   "outputs": [],
   "source": [
    "cl = deer.iloc[:,:4] \n",
    "cl[\"Sample Date\"] = (cl[\"Sample Date\"]-cl[\"Sample Date\"].min()).astype('timedelta64[Y]').astype(int)+1\n",
    "cl = cl.groupby(['Sample Date', 'Lat_Cent', 'Long_Cent']).agg({'Status':['max']}).reset_index()\n",
    "cl.to_csv('cl.csv')"
   ]
  },
  {
   "cell_type": "code",
   "execution_count": 195,
   "metadata": {},
   "outputs": [],
   "source": [
    "cl= pd.read_csv('cl.csv')\n",
    "cl.drop(columns = ['Unnamed: 0'], inplace=True)\n",
    "cl = cl.iloc[1:]\n",
    "cl['Sample Date']=cl['Sample Date'].astype('float64')"
   ]
  },
  {
   "cell_type": "code",
   "execution_count": 295,
   "metadata": {},
   "outputs": [],
   "source": [
    "# features\n",
    "#X = deer.iloc[:,1:4]  \n",
    "#X = cl.iloc[:,:3]  \n",
    "# without timestamp \n",
    "#X = deer.iloc[:,2:]  \n",
    "X=test[:,:2,:]\n",
    "# response\n",
    "#y = deer.Status\n",
    "#y=cl['Status']\n",
    "y=test[:,2,:]"
   ]
  },
  {
   "cell_type": "code",
   "execution_count": 57,
   "metadata": {},
   "outputs": [
    {
     "data": {
      "text/html": [
       "<div>\n",
       "<style scoped>\n",
       "    .dataframe tbody tr th:only-of-type {\n",
       "        vertical-align: middle;\n",
       "    }\n",
       "\n",
       "    .dataframe tbody tr th {\n",
       "        vertical-align: top;\n",
       "    }\n",
       "\n",
       "    .dataframe thead th {\n",
       "        text-align: right;\n",
       "    }\n",
       "</style>\n",
       "<table border=\"1\" class=\"dataframe\">\n",
       "  <thead>\n",
       "    <tr style=\"text-align: right;\">\n",
       "      <th></th>\n",
       "      <th>Sample Date</th>\n",
       "      <th>Lat_Cent</th>\n",
       "      <th>Long_Cent</th>\n",
       "    </tr>\n",
       "  </thead>\n",
       "  <tbody>\n",
       "    <tr>\n",
       "      <th>0</th>\n",
       "      <td>1</td>\n",
       "      <td>39.060983</td>\n",
       "      <td>-78.471737</td>\n",
       "    </tr>\n",
       "    <tr>\n",
       "      <th>1</th>\n",
       "      <td>1</td>\n",
       "      <td>39.060983</td>\n",
       "      <td>-78.471737</td>\n",
       "    </tr>\n",
       "    <tr>\n",
       "      <th>2</th>\n",
       "      <td>1</td>\n",
       "      <td>39.132197</td>\n",
       "      <td>-78.413342</td>\n",
       "    </tr>\n",
       "    <tr>\n",
       "      <th>3</th>\n",
       "      <td>1</td>\n",
       "      <td>39.004224</td>\n",
       "      <td>-78.529508</td>\n",
       "    </tr>\n",
       "    <tr>\n",
       "      <th>4</th>\n",
       "      <td>1</td>\n",
       "      <td>39.074248</td>\n",
       "      <td>-78.415461</td>\n",
       "    </tr>\n",
       "    <tr>\n",
       "      <th>...</th>\n",
       "      <td>...</td>\n",
       "      <td>...</td>\n",
       "      <td>...</td>\n",
       "    </tr>\n",
       "    <tr>\n",
       "      <th>10249</th>\n",
       "      <td>12</td>\n",
       "      <td>38.872635</td>\n",
       "      <td>-78.478428</td>\n",
       "    </tr>\n",
       "    <tr>\n",
       "      <th>10250</th>\n",
       "      <td>12</td>\n",
       "      <td>39.152780</td>\n",
       "      <td>-78.058787</td>\n",
       "    </tr>\n",
       "    <tr>\n",
       "      <th>10251</th>\n",
       "      <td>12</td>\n",
       "      <td>39.066813</td>\n",
       "      <td>-78.099557</td>\n",
       "    </tr>\n",
       "    <tr>\n",
       "      <th>10252</th>\n",
       "      <td>12</td>\n",
       "      <td>38.879436</td>\n",
       "      <td>-78.144295</td>\n",
       "    </tr>\n",
       "    <tr>\n",
       "      <th>10253</th>\n",
       "      <td>12</td>\n",
       "      <td>39.210711</td>\n",
       "      <td>-78.056370</td>\n",
       "    </tr>\n",
       "  </tbody>\n",
       "</table>\n",
       "<p>9881 rows × 3 columns</p>\n",
       "</div>"
      ],
      "text/plain": [
       "       Sample Date   Lat_Cent  Long_Cent\n",
       "0                1  39.060983 -78.471737\n",
       "1                1  39.060983 -78.471737\n",
       "2                1  39.132197 -78.413342\n",
       "3                1  39.004224 -78.529508\n",
       "4                1  39.074248 -78.415461\n",
       "...            ...        ...        ...\n",
       "10249           12  38.872635 -78.478428\n",
       "10250           12  39.152780 -78.058787\n",
       "10251           12  39.066813 -78.099557\n",
       "10252           12  38.879436 -78.144295\n",
       "10253           12  39.210711 -78.056370\n",
       "\n",
       "[9881 rows x 3 columns]"
      ]
     },
     "execution_count": 57,
     "metadata": {},
     "output_type": "execute_result"
    }
   ],
   "source": [
    "X[\"Sample Date\"] = (X[\"Sample Date\"]-X[\"Sample Date\"].min()).astype('timedelta64[Y]').astype(int)+1\n",
    "X"
   ]
  },
  {
   "cell_type": "code",
   "execution_count": 197,
   "metadata": {},
   "outputs": [
    {
     "data": {
      "text/plain": [
       "7.0     698\n",
       "9.0     646\n",
       "8.0     637\n",
       "10.0    634\n",
       "11.0    517\n",
       "6.0     353\n",
       "3.0     335\n",
       "12.0    322\n",
       "2.0     298\n",
       "5.0     221\n",
       "4.0     185\n",
       "1.0     142\n",
       "13.0     58\n",
       "Name: Sample Date, dtype: int64"
      ]
     },
     "execution_count": 197,
     "metadata": {},
     "output_type": "execute_result"
    }
   ],
   "source": [
    "X['Sample Date'].value_counts().head(50)"
   ]
  },
  {
   "cell_type": "code",
   "execution_count": 146,
   "metadata": {},
   "outputs": [
    {
     "data": {
      "text/plain": [
       "<AxesSubplot:>"
      ]
     },
     "execution_count": 146,
     "metadata": {},
     "output_type": "execute_result"
    },
    {
     "data": {
      "image/png": "[encoded data removed]",
      "text/plain": [
       "<Figure size 432x288 with 1 Axes>"
      ]
     },
     "metadata": {
      "needs_background": "light"
     },
     "output_type": "display_data"
    }
   ],
   "source": [
    "X['Sample Date'].hist(bins=13)"
   ]
  },
  {
   "cell_type": "code",
   "execution_count": 198,
   "metadata": {},
   "outputs": [
    {
     "data": {
      "text/html": [
       "<div>\n",
       "<style scoped>\n",
       "    .dataframe tbody tr th:only-of-type {\n",
       "        vertical-align: middle;\n",
       "    }\n",
       "\n",
       "    .dataframe tbody tr th {\n",
       "        vertical-align: top;\n",
       "    }\n",
       "\n",
       "    .dataframe thead th {\n",
       "        text-align: right;\n",
       "    }\n",
       "</style>\n",
       "<table border=\"1\" class=\"dataframe\">\n",
       "  <thead>\n",
       "    <tr style=\"text-align: right;\">\n",
       "      <th></th>\n",
       "      <th>Status</th>\n",
       "    </tr>\n",
       "  </thead>\n",
       "  <tbody>\n",
       "    <tr>\n",
       "      <th>1</th>\n",
       "      <td>0</td>\n",
       "    </tr>\n",
       "    <tr>\n",
       "      <th>2</th>\n",
       "      <td>0</td>\n",
       "    </tr>\n",
       "    <tr>\n",
       "      <th>3</th>\n",
       "      <td>0</td>\n",
       "    </tr>\n",
       "    <tr>\n",
       "      <th>4</th>\n",
       "      <td>0</td>\n",
       "    </tr>\n",
       "    <tr>\n",
       "      <th>5</th>\n",
       "      <td>0</td>\n",
       "    </tr>\n",
       "    <tr>\n",
       "      <th>...</th>\n",
       "      <td>...</td>\n",
       "    </tr>\n",
       "    <tr>\n",
       "      <th>5042</th>\n",
       "      <td>0</td>\n",
       "    </tr>\n",
       "    <tr>\n",
       "      <th>5043</th>\n",
       "      <td>0</td>\n",
       "    </tr>\n",
       "    <tr>\n",
       "      <th>5044</th>\n",
       "      <td>1</td>\n",
       "    </tr>\n",
       "    <tr>\n",
       "      <th>5045</th>\n",
       "      <td>0</td>\n",
       "    </tr>\n",
       "    <tr>\n",
       "      <th>5046</th>\n",
       "      <td>1</td>\n",
       "    </tr>\n",
       "  </tbody>\n",
       "</table>\n",
       "<p>5046 rows × 1 columns</p>\n",
       "</div>"
      ],
      "text/plain": [
       "     Status\n",
       "1         0\n",
       "2         0\n",
       "3         0\n",
       "4         0\n",
       "5         0\n",
       "...     ...\n",
       "5042      0\n",
       "5043      0\n",
       "5044      1\n",
       "5045      0\n",
       "5046      1\n",
       "\n",
       "[5046 rows x 1 columns]"
      ]
     },
     "execution_count": 198,
     "metadata": {},
     "output_type": "execute_result"
    }
   ],
   "source": [
    "y=pd.DataFrame(y)\n",
    "y"
   ]
  },
  {
   "cell_type": "code",
   "execution_count": 205,
   "metadata": {},
   "outputs": [],
   "source": [
    "y.Status=y.Status.astype('float64')"
   ]
  },
  {
   "cell_type": "code",
   "execution_count": 218,
   "metadata": {},
   "outputs": [
    {
     "data": {
      "text/html": [
       "<div>\n",
       "<style scoped>\n",
       "    .dataframe tbody tr th:only-of-type {\n",
       "        vertical-align: middle;\n",
       "    }\n",
       "\n",
       "    .dataframe tbody tr th {\n",
       "        vertical-align: top;\n",
       "    }\n",
       "\n",
       "    .dataframe thead th {\n",
       "        text-align: right;\n",
       "    }\n",
       "</style>\n",
       "<table border=\"1\" class=\"dataframe\">\n",
       "  <thead>\n",
       "    <tr style=\"text-align: right;\">\n",
       "      <th></th>\n",
       "      <th>Sample Date</th>\n",
       "      <th>Lat_Cent</th>\n",
       "      <th>Long_Cent</th>\n",
       "    </tr>\n",
       "  </thead>\n",
       "  <tbody>\n",
       "    <tr>\n",
       "      <th>1</th>\n",
       "      <td>1.0</td>\n",
       "      <td>38.831131</td>\n",
       "      <td>-78.572582</td>\n",
       "    </tr>\n",
       "    <tr>\n",
       "      <th>2</th>\n",
       "      <td>1.0</td>\n",
       "      <td>38.845234</td>\n",
       "      <td>-78.553561</td>\n",
       "    </tr>\n",
       "  </tbody>\n",
       "</table>\n",
       "</div>"
      ],
      "text/plain": [
       "   Sample Date   Lat_Cent  Long_Cent\n",
       "1          1.0  38.831131 -78.572582\n",
       "2          1.0  38.845234 -78.553561"
      ]
     },
     "execution_count": 218,
     "metadata": {},
     "output_type": "execute_result"
    }
   ],
   "source": [
    "X.head(2)\n",
    "#X.apply(lambda x: x.astype(np.float64), axis=1)"
   ]
  },
  {
   "cell_type": "code",
   "execution_count": null,
   "metadata": {},
   "outputs": [],
   "source": [
    "# split training data by outcome (get even class split for training data)\n",
    "#X_train1 = X[y['Status']==1]\n",
    "#y_train1 = y[y['Status']==1]\n",
    "#X_train0 = X[y['Status']==0]\n",
    "#y_train0 = y[y['Status']==0] \n",
    "#X_train0['Status'] = list(y_train0.Status)\n",
    "#X_train0, _, y_train0, _ = train_test_split(X_train0, X_train0[['Status']], test_size=((X_train0.shape[0])/(X.shape[0])), random_state=2, shuffle = False)\n",
    "#X_train0['Status'] = list(y_train0.Status)\n",
    "#X_train1['Status'] = list(y_train1.Status)\n",
    "#X_train_all = pd.concat([X_train0, X_train1])\n",
    "#X_train, y_train = X_train_all.iloc[:,:-1], X_train_all[['Status']]"
   ]
  },
  {
   "cell_type": "code",
   "execution_count": 296,
   "metadata": {},
   "outputs": [],
   "source": [
    "# split train & test, x & y up\n",
    "X_train, X_test, y_train, y_test = train_test_split(X, y, test_size=0.2, shuffle=False)\n",
    "#train, test = train_test_split(deer, test_size=0.2, shuffle=False)"
   ]
  },
  {
   "cell_type": "code",
   "execution_count": null,
   "metadata": {},
   "outputs": [],
   "source": [
    "train = TimeseriesGenerator(train, train, length=1, sampling_rate=1, stride=1, batch_size = 5)\n",
    "test = TimeseriesGenerator(test, test, length=1, sampling_rate=1, stride=1, batch_size = 5)"
   ]
  },
  {
   "cell_type": "code",
   "execution_count": 297,
   "metadata": {},
   "outputs": [
    {
     "ename": "AttributeError",
     "evalue": "'numpy.ndarray' object has no attribute 'values'",
     "output_type": "error",
     "traceback": [
      "\u001b[0;31m---------------------------------------------------------------------------\u001b[0m",
      "\u001b[0;31mAttributeError\u001b[0m                            Traceback (most recent call last)",
      "\u001b[0;32m<ipython-input-297-8c1aac310c44>\u001b[0m in \u001b[0;36m<module>\u001b[0;34m\u001b[0m\n\u001b[1;32m      1\u001b[0m \u001b[0;32mfrom\u001b[0m \u001b[0msklearn\u001b[0m\u001b[0;34m.\u001b[0m\u001b[0mutils\u001b[0m \u001b[0;32mimport\u001b[0m \u001b[0mclass_weight\u001b[0m\u001b[0;34m\u001b[0m\u001b[0;34m\u001b[0m\u001b[0m\n\u001b[0;32m----> 2\u001b[0;31m \u001b[0my_train\u001b[0m\u001b[0;34m=\u001b[0m\u001b[0my_train\u001b[0m\u001b[0;34m.\u001b[0m\u001b[0mvalues\u001b[0m\u001b[0;34m.\u001b[0m\u001b[0mreshape\u001b[0m\u001b[0;34m(\u001b[0m\u001b[0;36m4036\u001b[0m\u001b[0;34m,\u001b[0m\u001b[0;34m)\u001b[0m\u001b[0;34m\u001b[0m\u001b[0;34m\u001b[0m\u001b[0m\n\u001b[0m\u001b[1;32m      3\u001b[0m \u001b[0;34m\u001b[0m\u001b[0m\n\u001b[1;32m      4\u001b[0m class_weights = class_weight.compute_class_weight('balanced',\n\u001b[1;32m      5\u001b[0m                                                  \u001b[0mnp\u001b[0m\u001b[0;34m.\u001b[0m\u001b[0munique\u001b[0m\u001b[0;34m(\u001b[0m\u001b[0my_train\u001b[0m\u001b[0;34m)\u001b[0m\u001b[0;34m,\u001b[0m\u001b[0;34m\u001b[0m\u001b[0;34m\u001b[0m\u001b[0m\n",
      "\u001b[0;31mAttributeError\u001b[0m: 'numpy.ndarray' object has no attribute 'values'"
     ]
    }
   ],
   "source": [
    "from sklearn.utils import class_weight\n",
    "y_train=y_train.values.reshape(4036,)\n",
    "\n",
    "class_weights = class_weight.compute_class_weight('balanced',\n",
    "                                                 np.unique(y_train),\n",
    "                                                 y_train)\n",
    "#class_weights[0]=(class_weights[0]*1.8)\n",
    "#class_weights[1]=(class_weights[1]*.2)\n",
    "class_weights = {i : class_weights[i] for i in range(2)}\n",
    "class_weights"
   ]
  },
  {
   "cell_type": "code",
   "execution_count": 299,
   "metadata": {},
   "outputs": [
    {
     "data": {
      "text/plain": [
       "(7927, 2, 12)"
      ]
     },
     "execution_count": 299,
     "metadata": {},
     "output_type": "execute_result"
    }
   ],
   "source": [
    "# it doesn't like strings/objects like age and date, so we need to \n",
    "# recast these into variables that tensorflow can take as a next step\n",
    "# we can also reclassify lat/long to a single crossed feature column to see\n",
    "# if that improves anything (like at the top)\n",
    "#X_train.info()\n",
    "X_train.shape\n",
    "#y_train.shape"
   ]
  },
  {
   "cell_type": "markdown",
   "metadata": {},
   "source": [
    "## ANN"
   ]
  },
  {
   "cell_type": "code",
   "execution_count": 245,
   "metadata": {},
   "outputs": [],
   "source": [
    "# Simple neural net that DOES work (have to take out time stamp variable though, i.e. above)\n",
    "# Uncomment to use\n",
    "\n",
    "model = Sequential()\n",
    "model.add(Flatten(input_shape=[3,]))\n",
    "#model.add(keras.layers.BatchNormalization())\n",
    "#model.add(Dense(150, activation='relu'))\n",
    "#model.add(Dense(100, activation='relu'))\n",
    "#model.add(Dense(30, activation='relu'))\n",
    "model.add(Dense(5, activation='relu'))\n",
    "model.add(Dense(1, activation='sigmoid'))"
   ]
  },
  {
   "cell_type": "markdown",
   "metadata": {},
   "source": [
    "## CNN-LSTM"
   ]
  },
  {
   "cell_type": "code",
   "execution_count": null,
   "metadata": {},
   "outputs": [],
   "source": [
    "# More complex neural net (still a work in progress)\n",
    "# Uncomment to use\n",
    "model = Sequential()\n",
    "model.add(TimeDistributed(Conv2D(filters=6, \n",
    "                                 kernel_size=3,\n",
    "                                 strides=1,\n",
    "                                 activation='relu'), \n",
    "                                 batch_input_shape=(1, )+X_train.shape))\n",
    "model.add(TimeDistributed(MaxPooling2D(pool_size=2)))\n",
    "#model.add(TimeDistributed(Flatten()))\n",
    "model.add(LSTM(50, stateful=True, return_sequences=True))\n",
    "model.add(LSTM(10, stateful=True))\n",
    "model.add(Dense(24))\n",
    "model.compile(optimizer='adam', metrics=['accuracy'])"
   ]
  },
  {
   "cell_type": "code",
   "execution_count": null,
   "metadata": {},
   "outputs": [],
   "source": [
    "model = keras.models.Sequential([\n",
    "  keras.layers.Conv1D(filters=32, kernel_size=3,\n",
    "                      strides=1, padding=\"causal\",\n",
    "                      activation=\"relu\",\n",
    "                      input_shape=[None, 1]),\n",
    "  keras.layers.LSTM(32, return_sequences=True),\n",
    "  keras.layers.Dense(1),\n",
    "  keras.layers.Lambda(lambda x: x * 200)\n",
    "])\n",
    "lr_schedule = keras.callbacks.LearningRateScheduler(\n",
    "    lambda epoch: 1e-8 * 10**(epoch / 20))\n",
    "optimizer = keras.optimizers.SGD(lr=1e-8, momentum=0.9)\n",
    "model.compile(loss=keras.losses.Huber(),\n",
    "              optimizer=optimizer,\n",
    "              metrics=[\"mae\"])"
   ]
  },
  {
   "cell_type": "markdown",
   "metadata": {},
   "source": [
    "## Run Model"
   ]
  },
  {
   "cell_type": "code",
   "execution_count": 125,
   "metadata": {},
   "outputs": [
    {
     "name": "stdout",
     "output_type": "stream",
     "text": [
      "(4036, 3)\n",
      "(None, 3)\n",
      "(None, 1)\n"
     ]
    }
   ],
   "source": [
    "# note: X_train shape and input_shape must have matching # cols\n",
    "print(X_train.shape)    \n",
    "print(model.input_shape) \n",
    "print(model.output_shape)"
   ]
  },
  {
   "cell_type": "code",
   "execution_count": 182,
   "metadata": {},
   "outputs": [],
   "source": [
    "from keras import backend as K\n",
    "\n",
    "def recall_m(y_true, y_pred):\n",
    "    true_positives = K.sum(K.round(K.clip(y_true * y_pred, 0, 1)))\n",
    "    possible_positives = K.sum(K.round(K.clip(y_true, 0, 1)))\n",
    "    recall = true_positives / (possible_positives + K.epsilon())\n",
    "    return recall\n",
    "\n",
    "def precision_m(y_true, y_pred):\n",
    "    true_positives = K.sum(K.round(K.clip(y_true * y_pred, 0, 1)))\n",
    "    predicted_positives = K.sum(K.round(K.clip(y_pred, 0, 1)))\n",
    "    precision = true_positives / (predicted_positives + K.epsilon())\n",
    "    return precision\n",
    "\n",
    "def f1_m(y_true, y_pred):\n",
    "    precision = precision_m(y_true, y_pred)\n",
    "    recall = recall_m(y_true, y_pred)\n",
    "    return 2*((precision*recall)/(precision+recall+K.epsilon()))"
   ]
  },
  {
   "cell_type": "code",
   "execution_count": 251,
   "metadata": {},
   "outputs": [],
   "source": [
    "sgd = keras.optimizers.SGD(lr=0.001, decay=1e-6, momentum=0.9, nesterov=True)\n",
    "model.compile(loss='binary_crossentropy',\n",
    "              optimizer=sgd,\n",
    "              metrics=['accuracy', f1_m, precision_m, recall_m])    "
   ]
  },
  {
   "cell_type": "code",
   "execution_count": 253,
   "metadata": {},
   "outputs": [
    {
     "name": "stdout",
     "output_type": "stream",
     "text": [
      "Epoch 1/50\n",
      "1009/1009 [==============================] - 1s 1ms/step - loss: 0.6986 - accuracy: 0.7250 - f1_m: 0.0052 - precision_m: 0.0032 - recall_m: 0.0129 - val_loss: 0.7291 - val_accuracy: 0.0347 - val_f1_m: 0.0540 - val_precision_m: 0.0356 - val_recall_m: 0.1225\n",
      "Epoch 2/50\n",
      "1009/1009 [==============================] - 1s 1ms/step - loss: 0.6983 - accuracy: 0.3484 - f1_m: 0.0115 - precision_m: 0.0072 - recall_m: 0.0287 - val_loss: 0.7306 - val_accuracy: 0.0347 - val_f1_m: 0.0540 - val_precision_m: 0.0356 - val_recall_m: 0.1225\n",
      "Epoch 3/50\n",
      "1009/1009 [==============================] - 1s 1ms/step - loss: 0.6977 - accuracy: 0.3340 - f1_m: 0.0133 - precision_m: 0.0084 - recall_m: 0.0327 - val_loss: 0.6823 - val_accuracy: 0.9653 - val_f1_m: 0.0000e+00 - val_precision_m: 0.0000e+00 - val_recall_m: 0.0000e+00\n",
      "Epoch 4/50\n",
      "1009/1009 [==============================] - 1s 1ms/step - loss: 0.6978 - accuracy: 0.5396 - f1_m: 0.0082 - precision_m: 0.0052 - recall_m: 0.0198 - val_loss: 0.7225 - val_accuracy: 0.0347 - val_f1_m: 0.0540 - val_precision_m: 0.0356 - val_recall_m: 0.1225\n",
      "Epoch 5/50\n",
      "1009/1009 [==============================] - 1s 1ms/step - loss: 0.6989 - accuracy: 0.4336 - f1_m: 0.0106 - precision_m: 0.0067 - recall_m: 0.0258 - val_loss: 0.6796 - val_accuracy: 0.9653 - val_f1_m: 0.0000e+00 - val_precision_m: 0.0000e+00 - val_recall_m: 0.0000e+00\n",
      "Epoch 6/50\n",
      "1009/1009 [==============================] - 1s 1ms/step - loss: 0.6985 - accuracy: 0.7929 - f1_m: 0.0048 - precision_m: 0.0030 - recall_m: 0.0119 - val_loss: 0.7730 - val_accuracy: 0.0347 - val_f1_m: 0.0540 - val_precision_m: 0.0356 - val_recall_m: 0.1225\n",
      "Epoch 7/50\n",
      "1009/1009 [==============================] - 1s 1ms/step - loss: 0.6989 - accuracy: 0.2126 - f1_m: 0.0147 - precision_m: 0.0092 - recall_m: 0.0367 - val_loss: 0.7221 - val_accuracy: 0.0347 - val_f1_m: 0.0540 - val_precision_m: 0.0356 - val_recall_m: 0.1225\n",
      "Epoch 8/50\n",
      "1009/1009 [==============================] - 1s 1ms/step - loss: 0.6985 - accuracy: 0.4916 - f1_m: 0.0094 - precision_m: 0.0059 - recall_m: 0.0228 - val_loss: 0.7140 - val_accuracy: 0.0347 - val_f1_m: 0.0540 - val_precision_m: 0.0356 - val_recall_m: 0.1225\n",
      "Epoch 9/50\n",
      "1009/1009 [==============================] - 1s 1ms/step - loss: 0.6971 - accuracy: 0.6962 - f1_m: 0.0044 - precision_m: 0.0027 - recall_m: 0.0109 - val_loss: 0.7450 - val_accuracy: 0.0347 - val_f1_m: 0.0540 - val_precision_m: 0.0356 - val_recall_m: 0.1225\n",
      "Epoch 10/50\n",
      "1009/1009 [==============================] - 1s 1ms/step - loss: 0.6989 - accuracy: 0.2939 - f1_m: 0.0115 - precision_m: 0.0072 - recall_m: 0.0287 - val_loss: 0.7298 - val_accuracy: 0.0347 - val_f1_m: 0.0540 - val_precision_m: 0.0356 - val_recall_m: 0.1225\n",
      "Epoch 11/50\n",
      "1009/1009 [==============================] - 1s 1ms/step - loss: 0.6957 - accuracy: 0.1437 - f1_m: 0.0188 - precision_m: 0.0119 - recall_m: 0.0456 - val_loss: 0.6379 - val_accuracy: 0.9653 - val_f1_m: 0.0000e+00 - val_precision_m: 0.0000e+00 - val_recall_m: 0.0000e+00\n",
      "Epoch 12/50\n",
      "1009/1009 [==============================] - 1s 1ms/step - loss: 0.6984 - accuracy: 0.7339 - f1_m: 0.0052 - precision_m: 0.0032 - recall_m: 0.0129 - val_loss: 0.7118 - val_accuracy: 0.0347 - val_f1_m: 0.0540 - val_precision_m: 0.0356 - val_recall_m: 0.1225\n",
      "Epoch 13/50\n",
      "1009/1009 [==============================] - 1s 1ms/step - loss: 0.6984 - accuracy: 0.4341 - f1_m: 0.0118 - precision_m: 0.0074 - recall_m: 0.0287 - val_loss: 0.6948 - val_accuracy: 0.0347 - val_f1_m: 0.0540 - val_precision_m: 0.0356 - val_recall_m: 0.1225\n",
      "Epoch 14/50\n",
      "1009/1009 [==============================] - 1s 1ms/step - loss: 0.6972 - accuracy: 0.7002 - f1_m: 0.0050 - precision_m: 0.0032 - recall_m: 0.0119 - val_loss: 0.7379 - val_accuracy: 0.0347 - val_f1_m: 0.0540 - val_precision_m: 0.0356 - val_recall_m: 0.1225\n",
      "Epoch 15/50\n",
      "1009/1009 [==============================] - 1s 1ms/step - loss: 0.6951 - accuracy: 0.2056 - f1_m: 0.0169 - precision_m: 0.0107 - recall_m: 0.0416 - val_loss: 0.6317 - val_accuracy: 0.9653 - val_f1_m: 0.0000e+00 - val_precision_m: 0.0000e+00 - val_recall_m: 0.0000e+00\n",
      "Epoch 16/50\n",
      "1009/1009 [==============================] - 1s 1ms/step - loss: 0.6985 - accuracy: 0.5704 - f1_m: 0.0083 - precision_m: 0.0052 - recall_m: 0.0208 - val_loss: 0.6566 - val_accuracy: 0.9653 - val_f1_m: 0.0000e+00 - val_precision_m: 0.0000e+00 - val_recall_m: 0.0000e+00\n",
      "Epoch 17/50\n",
      "1009/1009 [==============================] - 1s 1ms/step - loss: 0.7001 - accuracy: 0.6972 - f1_m: 0.0044 - precision_m: 0.0027 - recall_m: 0.0109 - val_loss: 0.7097 - val_accuracy: 0.0347 - val_f1_m: 0.0540 - val_precision_m: 0.0356 - val_recall_m: 0.1225\n",
      "Epoch 18/50\n",
      "1009/1009 [==============================] - 1s 1ms/step - loss: 0.6954 - accuracy: 0.1422 - f1_m: 0.0193 - precision_m: 0.0121 - recall_m: 0.0476 - val_loss: 0.6139 - val_accuracy: 0.9653 - val_f1_m: 0.0000e+00 - val_precision_m: 0.0000e+00 - val_recall_m: 0.0000e+00\n",
      "Epoch 19/50\n",
      "1009/1009 [==============================] - 1s 1ms/step - loss: 0.6991 - accuracy: 0.9217 - f1_m: 0.0015 - precision_m: 9.9108e-04 - recall_m: 0.0030 - val_loss: 0.7309 - val_accuracy: 0.0347 - val_f1_m: 0.0540 - val_precision_m: 0.0356 - val_recall_m: 0.1225\n",
      "Epoch 20/50\n",
      "1009/1009 [==============================] - 1s 1ms/step - loss: 0.6967 - accuracy: 0.3657 - f1_m: 0.0127 - precision_m: 0.0079 - recall_m: 0.0317 - val_loss: 0.6819 - val_accuracy: 0.9653 - val_f1_m: 0.0000e+00 - val_precision_m: 0.0000e+00 - val_recall_m: 0.0000e+00\n",
      "Epoch 21/50\n",
      "1009/1009 [==============================] - 1s 1ms/step - loss: 0.6981 - accuracy: 0.6120 - f1_m: 0.0059 - precision_m: 0.0037 - recall_m: 0.0149 - val_loss: 0.6952 - val_accuracy: 0.0347 - val_f1_m: 0.0540 - val_precision_m: 0.0356 - val_recall_m: 0.1225\n",
      "Epoch 22/50\n",
      "1009/1009 [==============================] - 1s 1ms/step - loss: 0.6958 - accuracy: 0.3523 - f1_m: 0.0131 - precision_m: 0.0082 - recall_m: 0.0327 - val_loss: 0.6511 - val_accuracy: 0.9653 - val_f1_m: 0.0000e+00 - val_precision_m: 0.0000e+00 - val_recall_m: 0.0000e+00\n",
      "Epoch 23/50\n",
      "1009/1009 [==============================] - 1s 1ms/step - loss: 0.6985 - accuracy: 0.5699 - f1_m: 0.0079 - precision_m: 0.0050 - recall_m: 0.0198 - val_loss: 0.6578 - val_accuracy: 0.9653 - val_f1_m: 0.0000e+00 - val_precision_m: 0.0000e+00 - val_recall_m: 0.0000e+00\n",
      "Epoch 24/50\n",
      "1009/1009 [==============================] - 1s 1ms/step - loss: 0.6982 - accuracy: 0.5387 - f1_m: 0.0091 - precision_m: 0.0057 - recall_m: 0.0228 - val_loss: 0.6591 - val_accuracy: 0.9653 - val_f1_m: 0.0000e+00 - val_precision_m: 0.0000e+00 - val_recall_m: 0.0000e+00\n",
      "Epoch 25/50\n",
      "1009/1009 [==============================] - 1s 1ms/step - loss: 0.6986 - accuracy: 0.5134 - f1_m: 0.0094 - precision_m: 0.0059 - recall_m: 0.0228 - val_loss: 0.6650 - val_accuracy: 0.9653 - val_f1_m: 0.0000e+00 - val_precision_m: 0.0000e+00 - val_recall_m: 0.0000e+00\n",
      "Epoch 26/50\n",
      "1009/1009 [==============================] - 1s 1ms/step - loss: 0.6991 - accuracy: 0.5694 - f1_m: 0.0075 - precision_m: 0.0047 - recall_m: 0.0188 - val_loss: 0.6737 - val_accuracy: 0.9653 - val_f1_m: 0.0000e+00 - val_precision_m: 0.0000e+00 - val_recall_m: 0.0000e+00\n",
      "Epoch 27/50\n",
      "1009/1009 [==============================] - 1s 1ms/step - loss: 0.6976 - accuracy: 0.5441 - f1_m: 0.0063 - precision_m: 0.0040 - recall_m: 0.0159 - val_loss: 0.7144 - val_accuracy: 0.0347 - val_f1_m: 0.0540 - val_precision_m: 0.0356 - val_recall_m: 0.1225\n",
      "Epoch 28/50\n",
      "1009/1009 [==============================] - 2s 2ms/step - loss: 0.6979 - accuracy: 0.5481 - f1_m: 0.0079 - precision_m: 0.0050 - recall_m: 0.0198 - val_loss: 0.7107 - val_accuracy: 0.0347 - val_f1_m: 0.0540 - val_precision_m: 0.0356 - val_recall_m: 0.1225\n",
      "Epoch 29/50\n",
      "1009/1009 [==============================] - 1s 1ms/step - loss: 0.6968 - accuracy: 0.5109 - f1_m: 0.0104 - precision_m: 0.0067 - recall_m: 0.0248 - val_loss: 0.6945 - val_accuracy: 0.0347 - val_f1_m: 0.0540 - val_precision_m: 0.0356 - val_recall_m: 0.1225\n",
      "Epoch 30/50\n",
      "1009/1009 [==============================] - 1s 1ms/step - loss: 0.6981 - accuracy: 0.5714 - f1_m: 0.0066 - precision_m: 0.0042 - recall_m: 0.0159 - val_loss: 0.7124 - val_accuracy: 0.0347 - val_f1_m: 0.0540 - val_precision_m: 0.0356 - val_recall_m: 0.1225\n"
     ]
    },
    {
     "name": "stdout",
     "output_type": "stream",
     "text": [
      "Epoch 31/50\n",
      "1009/1009 [==============================] - 1s 1ms/step - loss: 0.6965 - accuracy: 0.2924 - f1_m: 0.0151 - precision_m: 0.0094 - recall_m: 0.0377 - val_loss: 0.6698 - val_accuracy: 0.9653 - val_f1_m: 0.0000e+00 - val_precision_m: 0.0000e+00 - val_recall_m: 0.0000e+00\n",
      "Epoch 32/50\n",
      "1009/1009 [==============================] - 1s 1ms/step - loss: 0.6978 - accuracy: 0.7636 - f1_m: 0.0036 - precision_m: 0.0022 - recall_m: 0.0089 - val_loss: 0.7355 - val_accuracy: 0.0347 - val_f1_m: 0.0540 - val_precision_m: 0.0356 - val_recall_m: 0.1225\n",
      "Epoch 33/50\n",
      "1009/1009 [==============================] - 1s 1ms/step - loss: 0.6992 - accuracy: 0.2106 - f1_m: 0.0123 - precision_m: 0.0077 - recall_m: 0.0307 - val_loss: 0.6921 - val_accuracy: 0.9653 - val_f1_m: 0.0000e+00 - val_precision_m: 0.0000e+00 - val_recall_m: 0.0000e+00\n",
      "Epoch 34/50\n",
      "1009/1009 [==============================] - 1s 1ms/step - loss: 0.6956 - accuracy: 0.2562 - f1_m: 0.0145 - precision_m: 0.0092 - recall_m: 0.0357 - val_loss: 0.6248 - val_accuracy: 0.9653 - val_f1_m: 0.0000e+00 - val_precision_m: 0.0000e+00 - val_recall_m: 0.0000e+00\n",
      "Epoch 35/50\n",
      "1009/1009 [==============================] - 1s 1ms/step - loss: 0.6986 - accuracy: 0.5763 - f1_m: 0.0066 - precision_m: 0.0042 - recall_m: 0.0159 - val_loss: 0.6802 - val_accuracy: 0.9653 - val_f1_m: 0.0000e+00 - val_precision_m: 0.0000e+00 - val_recall_m: 0.0000e+00\n",
      "Epoch 36/50\n",
      "1009/1009 [==============================] - 1s 1ms/step - loss: 0.6978 - accuracy: 0.6288 - f1_m: 0.0059 - precision_m: 0.0037 - recall_m: 0.0149 - val_loss: 0.7109 - val_accuracy: 0.0347 - val_f1_m: 0.0540 - val_precision_m: 0.0356 - val_recall_m: 0.1225\n",
      "Epoch 37/50\n",
      "1009/1009 [==============================] - 1s 1ms/step - loss: 0.6974 - accuracy: 0.4564 - f1_m: 0.0107 - precision_m: 0.0067 - recall_m: 0.0268 - val_loss: 0.7010 - val_accuracy: 0.0347 - val_f1_m: 0.0540 - val_precision_m: 0.0356 - val_recall_m: 0.1225\n",
      "Epoch 38/50\n",
      "1009/1009 [==============================] - 1s 1ms/step - loss: 0.6991 - accuracy: 0.4638 - f1_m: 0.0078 - precision_m: 0.0050 - recall_m: 0.0188 - val_loss: 0.7027 - val_accuracy: 0.0347 - val_f1_m: 0.0540 - val_precision_m: 0.0356 - val_recall_m: 0.1225\n",
      "Epoch 39/50\n",
      "1009/1009 [==============================] - 1s 1ms/step - loss: 0.6990 - accuracy: 0.3746 - f1_m: 0.0111 - precision_m: 0.0069 - recall_m: 0.0278 - val_loss: 0.6932 - val_accuracy: 0.0347 - val_f1_m: 0.0540 - val_precision_m: 0.0356 - val_recall_m: 0.1225\n",
      "Epoch 40/50\n",
      "1009/1009 [==============================] - 1s 1ms/step - loss: 0.6979 - accuracy: 0.6833 - f1_m: 0.0059 - precision_m: 0.0037 - recall_m: 0.0149 - val_loss: 0.7189 - val_accuracy: 0.0347 - val_f1_m: 0.0540 - val_precision_m: 0.0356 - val_recall_m: 0.1225\n",
      "Epoch 41/50\n",
      "1009/1009 [==============================] - 1s 1ms/step - loss: 0.6977 - accuracy: 0.2289 - f1_m: 0.0141 - precision_m: 0.0089 - recall_m: 0.0347 - val_loss: 0.6792 - val_accuracy: 0.9653 - val_f1_m: 0.0000e+00 - val_precision_m: 0.0000e+00 - val_recall_m: 0.0000e+00\n",
      "Epoch 42/50\n",
      "1009/1009 [==============================] - 1s 1ms/step - loss: 0.6961 - accuracy: 0.7760 - f1_m: 0.0040 - precision_m: 0.0025 - recall_m: 0.0099 - val_loss: 0.7454 - val_accuracy: 0.0347 - val_f1_m: 0.0540 - val_precision_m: 0.0356 - val_recall_m: 0.1225\n",
      "Epoch 43/50\n",
      "1009/1009 [==============================] - 1s 1ms/step - loss: 0.6986 - accuracy: 0.2607 - f1_m: 0.0126 - precision_m: 0.0079 - recall_m: 0.0307 - val_loss: 0.7165 - val_accuracy: 0.0347 - val_f1_m: 0.0540 - val_precision_m: 0.0356 - val_recall_m: 0.1225\n",
      "Epoch 44/50\n",
      "1009/1009 [==============================] - 1s 1ms/step - loss: 0.6945 - accuracy: 0.3603 - f1_m: 0.0130 - precision_m: 0.0082 - recall_m: 0.0317 - val_loss: 0.6365 - val_accuracy: 0.9653 - val_f1_m: 0.0000e+00 - val_precision_m: 0.0000e+00 - val_recall_m: 0.0000e+00\n",
      "Epoch 45/50\n",
      "1009/1009 [==============================] - 1s 1ms/step - loss: 0.6999 - accuracy: 0.5278 - f1_m: 0.0082 - precision_m: 0.0052 - recall_m: 0.0198 - val_loss: 0.6587 - val_accuracy: 0.9653 - val_f1_m: 0.0000e+00 - val_precision_m: 0.0000e+00 - val_recall_m: 0.0000e+00\n",
      "Epoch 46/50\n",
      "1009/1009 [==============================] - 1s 1ms/step - loss: 0.6981 - accuracy: 0.4400 - f1_m: 0.0095 - precision_m: 0.0059 - recall_m: 0.0238 - val_loss: 0.6678 - val_accuracy: 0.9653 - val_f1_m: 0.0000e+00 - val_precision_m: 0.0000e+00 - val_recall_m: 0.0000e+00\n",
      "Epoch 47/50\n",
      "1009/1009 [==============================] - 1s 1ms/step - loss: 0.6972 - accuracy: 0.7240 - f1_m: 0.0028 - precision_m: 0.0017 - recall_m: 0.0069 - val_loss: 0.7042 - val_accuracy: 0.0347 - val_f1_m: 0.0540 - val_precision_m: 0.0356 - val_recall_m: 0.1225\n",
      "Epoch 48/50\n",
      "1009/1009 [==============================] - 1s 1ms/step - loss: 0.6979 - accuracy: 0.2607 - f1_m: 0.0133 - precision_m: 0.0084 - recall_m: 0.0327 - val_loss: 0.6852 - val_accuracy: 0.9653 - val_f1_m: 0.0000e+00 - val_precision_m: 0.0000e+00 - val_recall_m: 0.0000e+00\n",
      "Epoch 49/50\n",
      "1009/1009 [==============================] - 1s 1ms/step - loss: 0.6975 - accuracy: 0.4440 - f1_m: 0.0111 - precision_m: 0.0069 - recall_m: 0.0278 - val_loss: 0.6711 - val_accuracy: 0.9653 - val_f1_m: 0.0000e+00 - val_precision_m: 0.0000e+00 - val_recall_m: 0.0000e+00\n",
      "Epoch 50/50\n",
      "1009/1009 [==============================] - 1s 1ms/step - loss: 0.6976 - accuracy: 0.4916 - f1_m: 0.0079 - precision_m: 0.0050 - recall_m: 0.0198 - val_loss: 0.6738 - val_accuracy: 0.9653 - val_f1_m: 0.0000e+00 - val_precision_m: 0.0000e+00 - val_recall_m: 0.0000e+00\n"
     ]
    }
   ],
   "source": [
    "history = model.fit(X_train, \n",
    "                    y_train,\n",
    "                    epochs=50, \n",
    "                    batch_size=4,\n",
    "                    class_weight=class_weights,\n",
    "                    validation_data=(X_test, y_test), \n",
    "                    verbose=1)"
   ]
  },
  {
   "cell_type": "code",
   "execution_count": 234,
   "metadata": {
    "scrolled": true
   },
   "outputs": [
    {
     "name": "stdout",
     "output_type": "stream",
     "text": [
      "Model: \"sequential_16\"\n",
      "_________________________________________________________________\n",
      "Layer (type)                 Output Shape              Param #   \n",
      "=================================================================\n",
      "flatten_16 (Flatten)         (None, 3)                 0         \n",
      "_________________________________________________________________\n",
      "dense_23 (Dense)             (None, 1)                 4         \n",
      "=================================================================\n",
      "Total params: 4\n",
      "Trainable params: 4\n",
      "Non-trainable params: 0\n",
      "_________________________________________________________________\n"
     ]
    }
   ],
   "source": [
    "model.summary()"
   ]
  },
  {
   "cell_type": "markdown",
   "metadata": {},
   "source": [
    "## LSTM"
   ]
  },
  {
   "cell_type": "code",
   "execution_count": null,
   "metadata": {},
   "outputs": [],
   "source": [
    "stacked_lstm = Sequential()\n",
    "stacked_lstm.add(LSTM(16, input_shape=(1, 1), return_sequences=True))\n",
    "stacked_lstm.add(LSTM(8, return_sequences=True))\n",
    "stacked_lstm.add(LSTM(4))\n",
    "stacked_lstm.add(Dense(1))\n",
    "stacked_lstm.compile(loss='mae', optimizer=RMSprop())\n",
    "\n",
    "checkpointer = ModelCheckpoint(filepath='../model/stacked_lstm_weights.hdf5'\n",
    "                               , verbose=0\n",
    "                               , save_best_only=True)\n",
    "earlystopper = EarlyStopping(monitor='val_loss'\n",
    "                             , patience=10\n",
    "                             , verbose=0)\n",
    "#with open(\"../model/stacked_lstm.json\", \"w\") as m:\n",
    " #   m.write(stacked_lstm.to_json())\n",
    "\n",
    "stacked_lstm_history = stacked_lstm.fit_generator(train\n",
    "                                                  , epochs=100\n",
    "                                                  , validation_data=test\n",
    "                                                  , verbose=0\n",
    "                                                  , callbacks=[checkpointer, earlystopper])\n",
    "plot_loss(stacked_lstm_history, 'Stacked LSTM - Train & Validation Loss')"
   ]
  },
  {
   "cell_type": "markdown",
   "metadata": {},
   "source": [
    "## Simple RNN"
   ]
  },
  {
   "cell_type": "code",
   "execution_count": 302,
   "metadata": {},
   "outputs": [
    {
     "data": {
      "text/plain": [
       "(1982, 12)"
      ]
     },
     "execution_count": 302,
     "metadata": {},
     "output_type": "execute_result"
    }
   ],
   "source": [
    "y_test.shape"
   ]
  },
  {
   "cell_type": "code",
   "execution_count": 303,
   "metadata": {},
   "outputs": [
    {
     "data": {
      "text/plain": [
       "(7927, 12)"
      ]
     },
     "execution_count": 303,
     "metadata": {},
     "output_type": "execute_result"
    }
   ],
   "source": [
    "y_train.shape"
   ]
  },
  {
   "cell_type": "code",
   "execution_count": 301,
   "metadata": {},
   "outputs": [
    {
     "data": {
      "text/plain": [
       "(7927, 2, 12)"
      ]
     },
     "execution_count": 301,
     "metadata": {},
     "output_type": "execute_result"
    }
   ],
   "source": [
    "X_train.shape"
   ]
  },
  {
   "cell_type": "code",
   "execution_count": 305,
   "metadata": {},
   "outputs": [],
   "source": [
    "X_train1=X_train.reshape(7927, 12, 2)\n",
    "X_test1=X_test.reshape(7927,12,2)\n",
    "#y_train1 = y_train.reshape(7927,12)\n",
    "#y_test1 = y_test.values.reshape(1982,12)"
   ]
  },
  {
   "cell_type": "code",
   "execution_count": 306,
   "metadata": {},
   "outputs": [
    {
     "ename": "ValueError",
     "evalue": "Input 0 of layer simple_rnn is incompatible with the layer: expected ndim=3, found ndim=4. Full shape received: (None, 7927, 12, 2)",
     "output_type": "error",
     "traceback": [
      "\u001b[0;31m---------------------------------------------------------------------------\u001b[0m",
      "\u001b[0;31mValueError\u001b[0m                                Traceback (most recent call last)",
      "\u001b[0;32m<ipython-input-306-c146655665dd>\u001b[0m in \u001b[0;36m<module>\u001b[0;34m\u001b[0m\n\u001b[1;32m      1\u001b[0m \u001b[0mmodel\u001b[0m \u001b[0;34m=\u001b[0m \u001b[0mkeras\u001b[0m\u001b[0;34m.\u001b[0m\u001b[0mmodels\u001b[0m\u001b[0;34m.\u001b[0m\u001b[0mSequential\u001b[0m\u001b[0;34m(\u001b[0m\u001b[0;34m)\u001b[0m\u001b[0;34m\u001b[0m\u001b[0;34m\u001b[0m\u001b[0m\n\u001b[1;32m      2\u001b[0m \u001b[0mmodel\u001b[0m\u001b[0;34m.\u001b[0m\u001b[0madd\u001b[0m\u001b[0;34m(\u001b[0m\u001b[0mkeras\u001b[0m\u001b[0;34m.\u001b[0m\u001b[0mlayers\u001b[0m\u001b[0;34m.\u001b[0m\u001b[0mInputLayer\u001b[0m\u001b[0;34m(\u001b[0m\u001b[0minput_shape\u001b[0m\u001b[0;34m=\u001b[0m \u001b[0mX_train1\u001b[0m\u001b[0;34m.\u001b[0m\u001b[0mshape\u001b[0m\u001b[0;34m)\u001b[0m\u001b[0;34m)\u001b[0m\u001b[0;31m#years,features\u001b[0m\u001b[0;34m\u001b[0m\u001b[0;34m\u001b[0m\u001b[0m\n\u001b[0;32m----> 3\u001b[0;31m \u001b[0mmodel\u001b[0m\u001b[0;34m.\u001b[0m\u001b[0madd\u001b[0m\u001b[0;34m(\u001b[0m\u001b[0mkeras\u001b[0m\u001b[0;34m.\u001b[0m\u001b[0mlayers\u001b[0m\u001b[0;34m.\u001b[0m\u001b[0mSimpleRNN\u001b[0m\u001b[0;34m(\u001b[0m\u001b[0;36m1\u001b[0m\u001b[0;34m)\u001b[0m\u001b[0;34m)\u001b[0m\u001b[0;34m\u001b[0m\u001b[0;34m\u001b[0m\u001b[0m\n\u001b[0m\u001b[1;32m      4\u001b[0m \u001b[0;34m\u001b[0m\u001b[0m\n\u001b[1;32m      5\u001b[0m \u001b[0;34m\u001b[0m\u001b[0m\n",
      "\u001b[0;32m/opt/anaconda3/lib/python3.7/site-packages/tensorflow/python/training/tracking/base.py\u001b[0m in \u001b[0;36m_method_wrapper\u001b[0;34m(self, *args, **kwargs)\u001b[0m\n\u001b[1;32m    515\u001b[0m     \u001b[0mself\u001b[0m\u001b[0;34m.\u001b[0m\u001b[0m_self_setattr_tracking\u001b[0m \u001b[0;34m=\u001b[0m \u001b[0;32mFalse\u001b[0m  \u001b[0;31m# pylint: disable=protected-access\u001b[0m\u001b[0;34m\u001b[0m\u001b[0;34m\u001b[0m\u001b[0m\n\u001b[1;32m    516\u001b[0m     \u001b[0;32mtry\u001b[0m\u001b[0;34m:\u001b[0m\u001b[0;34m\u001b[0m\u001b[0;34m\u001b[0m\u001b[0m\n\u001b[0;32m--> 517\u001b[0;31m       \u001b[0mresult\u001b[0m \u001b[0;34m=\u001b[0m \u001b[0mmethod\u001b[0m\u001b[0;34m(\u001b[0m\u001b[0mself\u001b[0m\u001b[0;34m,\u001b[0m \u001b[0;34m*\u001b[0m\u001b[0margs\u001b[0m\u001b[0;34m,\u001b[0m \u001b[0;34m**\u001b[0m\u001b[0mkwargs\u001b[0m\u001b[0;34m)\u001b[0m\u001b[0;34m\u001b[0m\u001b[0;34m\u001b[0m\u001b[0m\n\u001b[0m\u001b[1;32m    518\u001b[0m     \u001b[0;32mfinally\u001b[0m\u001b[0;34m:\u001b[0m\u001b[0;34m\u001b[0m\u001b[0;34m\u001b[0m\u001b[0m\n\u001b[1;32m    519\u001b[0m       \u001b[0mself\u001b[0m\u001b[0;34m.\u001b[0m\u001b[0m_self_setattr_tracking\u001b[0m \u001b[0;34m=\u001b[0m \u001b[0mprevious_value\u001b[0m  \u001b[0;31m# pylint: disable=protected-access\u001b[0m\u001b[0;34m\u001b[0m\u001b[0;34m\u001b[0m\u001b[0m\n",
      "\u001b[0;32m/opt/anaconda3/lib/python3.7/site-packages/tensorflow/python/keras/engine/sequential.py\u001b[0m in \u001b[0;36madd\u001b[0;34m(self, layer)\u001b[0m\n\u001b[1;32m    221\u001b[0m       \u001b[0;31m# If the model is being built continuously on top of an input layer:\u001b[0m\u001b[0;34m\u001b[0m\u001b[0;34m\u001b[0m\u001b[0;34m\u001b[0m\u001b[0m\n\u001b[1;32m    222\u001b[0m       \u001b[0;31m# refresh its output.\u001b[0m\u001b[0;34m\u001b[0m\u001b[0;34m\u001b[0m\u001b[0;34m\u001b[0m\u001b[0m\n\u001b[0;32m--> 223\u001b[0;31m       \u001b[0moutput_tensor\u001b[0m \u001b[0;34m=\u001b[0m \u001b[0mlayer\u001b[0m\u001b[0;34m(\u001b[0m\u001b[0mself\u001b[0m\u001b[0;34m.\u001b[0m\u001b[0moutputs\u001b[0m\u001b[0;34m[\u001b[0m\u001b[0;36m0\u001b[0m\u001b[0;34m]\u001b[0m\u001b[0;34m)\u001b[0m\u001b[0;34m\u001b[0m\u001b[0;34m\u001b[0m\u001b[0m\n\u001b[0m\u001b[1;32m    224\u001b[0m       \u001b[0;32mif\u001b[0m \u001b[0mlen\u001b[0m\u001b[0;34m(\u001b[0m\u001b[0mnest\u001b[0m\u001b[0;34m.\u001b[0m\u001b[0mflatten\u001b[0m\u001b[0;34m(\u001b[0m\u001b[0moutput_tensor\u001b[0m\u001b[0;34m)\u001b[0m\u001b[0;34m)\u001b[0m \u001b[0;34m!=\u001b[0m \u001b[0;36m1\u001b[0m\u001b[0;34m:\u001b[0m\u001b[0;34m\u001b[0m\u001b[0;34m\u001b[0m\u001b[0m\n\u001b[1;32m    225\u001b[0m         \u001b[0;32mraise\u001b[0m \u001b[0mValueError\u001b[0m\u001b[0;34m(\u001b[0m\u001b[0mSINGLE_LAYER_OUTPUT_ERROR_MSG\u001b[0m\u001b[0;34m)\u001b[0m\u001b[0;34m\u001b[0m\u001b[0;34m\u001b[0m\u001b[0m\n",
      "\u001b[0;32m/opt/anaconda3/lib/python3.7/site-packages/tensorflow/python/keras/layers/recurrent.py\u001b[0m in \u001b[0;36m__call__\u001b[0;34m(self, inputs, initial_state, constants, **kwargs)\u001b[0m\n\u001b[1;32m    658\u001b[0m \u001b[0;34m\u001b[0m\u001b[0m\n\u001b[1;32m    659\u001b[0m     \u001b[0;32mif\u001b[0m \u001b[0minitial_state\u001b[0m \u001b[0;32mis\u001b[0m \u001b[0;32mNone\u001b[0m \u001b[0;32mand\u001b[0m \u001b[0mconstants\u001b[0m \u001b[0;32mis\u001b[0m \u001b[0;32mNone\u001b[0m\u001b[0;34m:\u001b[0m\u001b[0;34m\u001b[0m\u001b[0;34m\u001b[0m\u001b[0m\n\u001b[0;32m--> 660\u001b[0;31m       \u001b[0;32mreturn\u001b[0m \u001b[0msuper\u001b[0m\u001b[0;34m(\u001b[0m\u001b[0mRNN\u001b[0m\u001b[0;34m,\u001b[0m \u001b[0mself\u001b[0m\u001b[0;34m)\u001b[0m\u001b[0;34m.\u001b[0m\u001b[0m__call__\u001b[0m\u001b[0;34m(\u001b[0m\u001b[0minputs\u001b[0m\u001b[0;34m,\u001b[0m \u001b[0;34m**\u001b[0m\u001b[0mkwargs\u001b[0m\u001b[0;34m)\u001b[0m\u001b[0;34m\u001b[0m\u001b[0;34m\u001b[0m\u001b[0m\n\u001b[0m\u001b[1;32m    661\u001b[0m \u001b[0;34m\u001b[0m\u001b[0m\n\u001b[1;32m    662\u001b[0m     \u001b[0;31m# If any of `initial_state` or `constants` are specified and are Keras\u001b[0m\u001b[0;34m\u001b[0m\u001b[0;34m\u001b[0m\u001b[0;34m\u001b[0m\u001b[0m\n",
      "\u001b[0;32m/opt/anaconda3/lib/python3.7/site-packages/tensorflow/python/keras/engine/base_layer.py\u001b[0m in \u001b[0;36m__call__\u001b[0;34m(self, *args, **kwargs)\u001b[0m\n\u001b[1;32m    950\u001b[0m     \u001b[0;32mif\u001b[0m \u001b[0m_in_functional_construction_mode\u001b[0m\u001b[0;34m(\u001b[0m\u001b[0mself\u001b[0m\u001b[0;34m,\u001b[0m \u001b[0minputs\u001b[0m\u001b[0;34m,\u001b[0m \u001b[0margs\u001b[0m\u001b[0;34m,\u001b[0m \u001b[0mkwargs\u001b[0m\u001b[0;34m,\u001b[0m \u001b[0minput_list\u001b[0m\u001b[0;34m)\u001b[0m\u001b[0;34m:\u001b[0m\u001b[0;34m\u001b[0m\u001b[0;34m\u001b[0m\u001b[0m\n\u001b[1;32m    951\u001b[0m       return self._functional_construction_call(inputs, args, kwargs,\n\u001b[0;32m--> 952\u001b[0;31m                                                 input_list)\n\u001b[0m\u001b[1;32m    953\u001b[0m \u001b[0;34m\u001b[0m\u001b[0m\n\u001b[1;32m    954\u001b[0m     \u001b[0;31m# Maintains info about the `Layer.call` stack.\u001b[0m\u001b[0;34m\u001b[0m\u001b[0;34m\u001b[0m\u001b[0;34m\u001b[0m\u001b[0m\n",
      "\u001b[0;32m/opt/anaconda3/lib/python3.7/site-packages/tensorflow/python/keras/engine/base_layer.py\u001b[0m in \u001b[0;36m_functional_construction_call\u001b[0;34m(self, inputs, args, kwargs, input_list)\u001b[0m\n\u001b[1;32m   1089\u001b[0m         \u001b[0;31m# Check input assumptions set after layer building, e.g. input shape.\u001b[0m\u001b[0;34m\u001b[0m\u001b[0;34m\u001b[0m\u001b[0;34m\u001b[0m\u001b[0m\n\u001b[1;32m   1090\u001b[0m         outputs = self._keras_tensor_symbolic_call(\n\u001b[0;32m-> 1091\u001b[0;31m             inputs, input_masks, args, kwargs)\n\u001b[0m\u001b[1;32m   1092\u001b[0m \u001b[0;34m\u001b[0m\u001b[0m\n\u001b[1;32m   1093\u001b[0m         \u001b[0;32mif\u001b[0m \u001b[0moutputs\u001b[0m \u001b[0;32mis\u001b[0m \u001b[0;32mNone\u001b[0m\u001b[0;34m:\u001b[0m\u001b[0;34m\u001b[0m\u001b[0;34m\u001b[0m\u001b[0m\n",
      "\u001b[0;32m/opt/anaconda3/lib/python3.7/site-packages/tensorflow/python/keras/engine/base_layer.py\u001b[0m in \u001b[0;36m_keras_tensor_symbolic_call\u001b[0;34m(self, inputs, input_masks, args, kwargs)\u001b[0m\n\u001b[1;32m    820\u001b[0m       \u001b[0;32mreturn\u001b[0m \u001b[0mnest\u001b[0m\u001b[0;34m.\u001b[0m\u001b[0mmap_structure\u001b[0m\u001b[0;34m(\u001b[0m\u001b[0mkeras_tensor\u001b[0m\u001b[0;34m.\u001b[0m\u001b[0mKerasTensor\u001b[0m\u001b[0;34m,\u001b[0m \u001b[0moutput_signature\u001b[0m\u001b[0;34m)\u001b[0m\u001b[0;34m\u001b[0m\u001b[0;34m\u001b[0m\u001b[0m\n\u001b[1;32m    821\u001b[0m     \u001b[0;32melse\u001b[0m\u001b[0;34m:\u001b[0m\u001b[0;34m\u001b[0m\u001b[0;34m\u001b[0m\u001b[0m\n\u001b[0;32m--> 822\u001b[0;31m       \u001b[0;32mreturn\u001b[0m \u001b[0mself\u001b[0m\u001b[0;34m.\u001b[0m\u001b[0m_infer_output_signature\u001b[0m\u001b[0;34m(\u001b[0m\u001b[0minputs\u001b[0m\u001b[0;34m,\u001b[0m \u001b[0margs\u001b[0m\u001b[0;34m,\u001b[0m \u001b[0mkwargs\u001b[0m\u001b[0;34m,\u001b[0m \u001b[0minput_masks\u001b[0m\u001b[0;34m)\u001b[0m\u001b[0;34m\u001b[0m\u001b[0;34m\u001b[0m\u001b[0m\n\u001b[0m\u001b[1;32m    823\u001b[0m \u001b[0;34m\u001b[0m\u001b[0m\n\u001b[1;32m    824\u001b[0m   \u001b[0;32mdef\u001b[0m \u001b[0m_infer_output_signature\u001b[0m\u001b[0;34m(\u001b[0m\u001b[0mself\u001b[0m\u001b[0;34m,\u001b[0m \u001b[0minputs\u001b[0m\u001b[0;34m,\u001b[0m \u001b[0margs\u001b[0m\u001b[0;34m,\u001b[0m \u001b[0mkwargs\u001b[0m\u001b[0;34m,\u001b[0m \u001b[0minput_masks\u001b[0m\u001b[0;34m)\u001b[0m\u001b[0;34m:\u001b[0m\u001b[0;34m\u001b[0m\u001b[0;34m\u001b[0m\u001b[0m\n",
      "\u001b[0;32m/opt/anaconda3/lib/python3.7/site-packages/tensorflow/python/keras/engine/base_layer.py\u001b[0m in \u001b[0;36m_infer_output_signature\u001b[0;34m(self, inputs, args, kwargs, input_masks)\u001b[0m\n\u001b[1;32m    860\u001b[0m           \u001b[0;31m# overridden).\u001b[0m\u001b[0;34m\u001b[0m\u001b[0;34m\u001b[0m\u001b[0;34m\u001b[0m\u001b[0m\n\u001b[1;32m    861\u001b[0m           \u001b[0;31m# TODO(kaftan): do we maybe_build here, or have we already done it?\u001b[0m\u001b[0;34m\u001b[0m\u001b[0;34m\u001b[0m\u001b[0;34m\u001b[0m\u001b[0m\n\u001b[0;32m--> 862\u001b[0;31m           \u001b[0mself\u001b[0m\u001b[0;34m.\u001b[0m\u001b[0m_maybe_build\u001b[0m\u001b[0;34m(\u001b[0m\u001b[0minputs\u001b[0m\u001b[0;34m)\u001b[0m\u001b[0;34m\u001b[0m\u001b[0;34m\u001b[0m\u001b[0m\n\u001b[0m\u001b[1;32m    863\u001b[0m           \u001b[0moutputs\u001b[0m \u001b[0;34m=\u001b[0m \u001b[0mcall_fn\u001b[0m\u001b[0;34m(\u001b[0m\u001b[0minputs\u001b[0m\u001b[0;34m,\u001b[0m \u001b[0;34m*\u001b[0m\u001b[0margs\u001b[0m\u001b[0;34m,\u001b[0m \u001b[0;34m**\u001b[0m\u001b[0mkwargs\u001b[0m\u001b[0;34m)\u001b[0m\u001b[0;34m\u001b[0m\u001b[0;34m\u001b[0m\u001b[0m\n\u001b[1;32m    864\u001b[0m \u001b[0;34m\u001b[0m\u001b[0m\n",
      "\u001b[0;32m/opt/anaconda3/lib/python3.7/site-packages/tensorflow/python/keras/engine/base_layer.py\u001b[0m in \u001b[0;36m_maybe_build\u001b[0;34m(self, inputs)\u001b[0m\n\u001b[1;32m   2683\u001b[0m     \u001b[0;32mif\u001b[0m \u001b[0;32mnot\u001b[0m \u001b[0mself\u001b[0m\u001b[0;34m.\u001b[0m\u001b[0mbuilt\u001b[0m\u001b[0;34m:\u001b[0m\u001b[0;34m\u001b[0m\u001b[0;34m\u001b[0m\u001b[0m\n\u001b[1;32m   2684\u001b[0m       input_spec.assert_input_compatibility(\n\u001b[0;32m-> 2685\u001b[0;31m           self.input_spec, inputs, self.name)\n\u001b[0m\u001b[1;32m   2686\u001b[0m       \u001b[0minput_list\u001b[0m \u001b[0;34m=\u001b[0m \u001b[0mnest\u001b[0m\u001b[0;34m.\u001b[0m\u001b[0mflatten\u001b[0m\u001b[0;34m(\u001b[0m\u001b[0minputs\u001b[0m\u001b[0;34m)\u001b[0m\u001b[0;34m\u001b[0m\u001b[0;34m\u001b[0m\u001b[0m\n\u001b[1;32m   2687\u001b[0m       \u001b[0;32mif\u001b[0m \u001b[0minput_list\u001b[0m \u001b[0;32mand\u001b[0m \u001b[0mself\u001b[0m\u001b[0;34m.\u001b[0m\u001b[0m_dtype_policy\u001b[0m\u001b[0;34m.\u001b[0m\u001b[0mcompute_dtype\u001b[0m \u001b[0;32mis\u001b[0m \u001b[0;32mNone\u001b[0m\u001b[0;34m:\u001b[0m\u001b[0;34m\u001b[0m\u001b[0;34m\u001b[0m\u001b[0m\n",
      "\u001b[0;32m/opt/anaconda3/lib/python3.7/site-packages/tensorflow/python/keras/engine/input_spec.py\u001b[0m in \u001b[0;36massert_input_compatibility\u001b[0;34m(input_spec, inputs, layer_name)\u001b[0m\n\u001b[1;32m    221\u001b[0m                          \u001b[0;34m'expected ndim='\u001b[0m \u001b[0;34m+\u001b[0m \u001b[0mstr\u001b[0m\u001b[0;34m(\u001b[0m\u001b[0mspec\u001b[0m\u001b[0;34m.\u001b[0m\u001b[0mndim\u001b[0m\u001b[0;34m)\u001b[0m \u001b[0;34m+\u001b[0m \u001b[0;34m', found ndim='\u001b[0m \u001b[0;34m+\u001b[0m\u001b[0;34m\u001b[0m\u001b[0;34m\u001b[0m\u001b[0m\n\u001b[1;32m    222\u001b[0m                          \u001b[0mstr\u001b[0m\u001b[0;34m(\u001b[0m\u001b[0mndim\u001b[0m\u001b[0;34m)\u001b[0m \u001b[0;34m+\u001b[0m \u001b[0;34m'. Full shape received: '\u001b[0m \u001b[0;34m+\u001b[0m\u001b[0;34m\u001b[0m\u001b[0;34m\u001b[0m\u001b[0m\n\u001b[0;32m--> 223\u001b[0;31m                          str(tuple(shape)))\n\u001b[0m\u001b[1;32m    224\u001b[0m     \u001b[0;32mif\u001b[0m \u001b[0mspec\u001b[0m\u001b[0;34m.\u001b[0m\u001b[0mmax_ndim\u001b[0m \u001b[0;32mis\u001b[0m \u001b[0;32mnot\u001b[0m \u001b[0;32mNone\u001b[0m\u001b[0;34m:\u001b[0m\u001b[0;34m\u001b[0m\u001b[0;34m\u001b[0m\u001b[0m\n\u001b[1;32m    225\u001b[0m       \u001b[0mndim\u001b[0m \u001b[0;34m=\u001b[0m \u001b[0mx\u001b[0m\u001b[0;34m.\u001b[0m\u001b[0mshape\u001b[0m\u001b[0;34m.\u001b[0m\u001b[0mrank\u001b[0m\u001b[0;34m\u001b[0m\u001b[0;34m\u001b[0m\u001b[0m\n",
      "\u001b[0;31mValueError\u001b[0m: Input 0 of layer simple_rnn is incompatible with the layer: expected ndim=3, found ndim=4. Full shape received: (None, 7927, 12, 2)"
     ]
    }
   ],
   "source": [
    "model = keras.models.Sequential()\n",
    "model.add(keras.layers.InputLayer(input_shape= X_train1.shape))#years,features\n",
    "model.add(keras.layers.SimpleRNN(1))\n",
    "\n",
    "\n",
    "\n",
    "model.compile(loss=\"mse\", optimizer=\"adam\")\n",
    "history = model.fit(X_train1, y_train, epochs=20,\n",
    "                    validation_data=(X_test, y_test))"
   ]
  },
  {
   "cell_type": "code",
   "execution_count": null,
   "metadata": {},
   "outputs": [],
   "source": [
    "model.outputs"
   ]
  },
  {
   "cell_type": "code",
   "execution_count": null,
   "metadata": {},
   "outputs": [],
   "source": [
    "model(X_train1)"
   ]
  },
  {
   "cell_type": "code",
   "execution_count": null,
   "metadata": {},
   "outputs": [],
   "source": [
    "simple_rnn = Sequential()\n",
    "simple_rnn.add(SimpleRNN(4, input_shape=(1, 1)))\n",
    "simple_rnn.add(Dense(1))\n",
    "simple_rnn.compile(loss='mae', optimizer=RMSprop())\n",
    "\n",
    "checkpointer = ModelCheckpoint(filepath='../model/simple_rnn_weights.hdf5'\n",
    "                               , verbose=0\n",
    "                               , save_best_only=True)\n",
    "earlystopper = EarlyStopping(monitor='val_loss'\n",
    "                             , patience=10\n",
    "                             , verbose=0)"
   ]
  },
  {
   "cell_type": "code",
   "execution_count": null,
   "metadata": {},
   "outputs": [],
   "source": [
    "simple_rnn_history = simple_rnn.fit_generator(train\n",
    "                                              , epochs=100\n",
    "                                              , validation_data=test\n",
    "                                              , verbose=1)"
   ]
  },
  {
   "cell_type": "code",
   "execution_count": null,
   "metadata": {},
   "outputs": [],
   "source": [
    "plot_loss(simple_rnn_history, 'SimpleRNN - Train & Validation Loss')"
   ]
  },
  {
   "cell_type": "markdown",
   "metadata": {},
   "source": [
    "## Model Assessment"
   ]
  },
  {
   "cell_type": "code",
   "execution_count": 22,
   "metadata": {},
   "outputs": [
    {
     "name": "stdout",
     "output_type": "stream",
     "text": [
      "dict_keys(['loss', 'accuracy', 'f1_m', 'val_loss', 'val_accuracy', 'val_f1_m'])\n"
     ]
    },
    {
     "data": {
      "image/png": "[encoded data removed]",
      "text/plain": [
       "<Figure size 432x288 with 1 Axes>"
      ]
     },
     "metadata": {
      "needs_background": "light"
     },
     "output_type": "display_data"
    }
   ],
   "source": [
    "print(history.history.keys())\n",
    "plt.plot(history.history['accuracy'])\n",
    "#plt.plot(history.history['val_accuracy'])\n",
    "plt.plot(history.history['val_f1_m'])\n",
    "plt.title('model accuracy')\n",
    "plt.ylabel('accuracy')\n",
    "plt.xlabel('epoch')\n",
    "plt.legend(['train', 'test'], loc='upper left')\n",
    "plt.show()"
   ]
  },
  {
   "cell_type": "code",
   "execution_count": 232,
   "metadata": {},
   "outputs": [
    {
     "name": "stdout",
     "output_type": "stream",
     "text": [
      "[[920  55]\n",
      " [ 32   3]]\n"
     ]
    }
   ],
   "source": [
    "import sklearn\n",
    "y_pred = model.predict(X_test)\n",
    "confusion_matrix = sklearn.metrics.confusion_matrix(y_test, np.rint(y_pred))\n",
    "print(confusion_matrix)"
   ]
  },
  {
   "cell_type": "code",
   "execution_count": null,
   "metadata": {},
   "outputs": [],
   "source": [
    "score = model.evaluate(X_test, y_test,verbose=1)"
   ]
  },
  {
   "cell_type": "code",
   "execution_count": 23,
   "metadata": {},
   "outputs": [
    {
     "name": "stdout",
     "output_type": "stream",
     "text": [
      "[[0.07691556]\n",
      " [0.16133443]\n",
      " [0.12428945]\n",
      " [0.13169476]\n",
      " [0.11476895]\n",
      " [0.1407386 ]\n",
      " [0.18420845]\n",
      " [0.14248562]\n",
      " [0.10652506]\n",
      " [0.07117614]\n",
      " [0.20214802]\n",
      " [0.11795133]\n",
      " [0.05355549]\n",
      " [0.02588749]\n",
      " [0.11692151]\n",
      " [0.11815694]\n",
      " [0.05374756]\n",
      " [0.09990406]\n",
      " [0.08466238]\n",
      " [0.10129228]\n",
      " [0.16003758]\n",
      " [0.02803051]\n",
      " [0.10145947]\n",
      " [0.1118508 ]\n",
      " [0.06258085]]\n"
     ]
    }
   ],
   "source": [
    "# oh no, it's so accurate because it's predicting every single point as 0!\n",
    "# that isn't helpful for us, we need some values to be classified at 1 sometimes....\n",
    "preds = model.predict(X_test)\n",
    "#preds = np.where(preds > 0.9, 1, 0)\n",
    "print(preds[0:25])"
   ]
  },
  {
   "cell_type": "code",
   "execution_count": null,
   "metadata": {},
   "outputs": [],
   "source": []
  },
  {
   "cell_type": "code",
   "execution_count": null,
   "metadata": {},
   "outputs": [],
   "source": []
  }
 ],
 "metadata": {
  "kernelspec": {
   "display_name": "Python 3",
   "language": "python",
   "name": "python3"
  },
  "language_info": {
   "codemirror_mode": {
    "name": "ipython",
    "version": 3
   },
   "file_extension": ".py",
   "mimetype": "text/x-python",
   "name": "python",
   "nbconvert_exporter": "python",
   "pygments_lexer": "ipython3",
   "version": "3.7.6"
  }
 },
 "nbformat": 4,
 "nbformat_minor": 4
}
