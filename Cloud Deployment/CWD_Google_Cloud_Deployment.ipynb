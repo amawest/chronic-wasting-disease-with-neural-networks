{
  "nbformat": 4,
  "nbformat_minor": 0,
  "metadata": {
    "colab": {
      "name": "CWD_Google_Cloud_Deployment.ipynb",
      "provenance": [],
      "collapsed_sections": [],
      "toc_visible": true
    },
    "kernelspec": {
      "name": "python3",
      "display_name": "Python 3"
    },
    "language_info": {
      "name": "python"
    }
  },
  "cells": [
    {
      "cell_type": "markdown",
      "metadata": {
        "id": "WBHqU-Tn-EX1"
      },
      "source": [
        "# Deploying CWD Analysis to Google Cloud"
      ]
    },
    {
      "cell_type": "code",
      "metadata": {
        "id": "92L2PWruz-dX"
      },
      "source": [
        "# 1) import libraries\n",
        "import pandas as pd\n",
        "import numpy as np\n",
        "import matplotlib.pyplot as plt\n",
        "from sklearn.model_selection import train_test_split\n",
        "import tensorflow as tf\n",
        "from keras.layers import Conv1D, Conv2D, MaxPooling1D, MaxPooling2D\n",
        "from tensorflow.keras.models import Sequential\n",
        "from keras.layers import Dense, Dropout, Activation, Flatten, SimpleRNN\n",
        "from tensorflow.keras.layers import Dense\n",
        "from tensorflow.keras.layers import LSTM\n",
        "from keras.layers import TimeDistributed\n",
        "from keras.optimizers import RMSprop\n",
        "import keras\n",
        "from keras.callbacks import ModelCheckpoint, EarlyStopping\n",
        "from keras.preprocessing.sequence import TimeseriesGenerator"
      ],
      "execution_count": 1,
      "outputs": []
    },
    {
      "cell_type": "code",
      "metadata": {
        "id": "dwNlV4Dq-D7B"
      },
      "source": [
        "# 2) data upload and wrangling\n",
        "deer = pd.read_csv(\"DMA1_withlatlong.csv\")\n",
        "deer = deer[['Status', 'Sample Date', 'Lat_Cent', 'Long_Cent','Age', 'Sex', \n",
        "             'Active - Hunter Killed', 'Active - Other', 'Active - Road-Killed',\n",
        "             'Targeted - Other', 'Targeted-Clinical suspect']]\n",
        "deer['Sample Date'] = pd.to_datetime(deer['Sample Date'])\n",
        "deer['Age'] = pd.to_numeric(deer['Age'],errors='coerce')\n",
        "deer = deer.dropna()\n",
        "# with timestamp \n",
        "X = deer.iloc[:,1:]  \n",
        "# response\n",
        "y = deer.Status\n",
        "X[\"Sample Date\"] = (X[\"Sample Date\"]-X[\"Sample Date\"].min()).astype('timedelta64[Y]').astype(int)+1\n",
        "y=pd.DataFrame(y)\n",
        "y.Status=y.Status.astype('float64')\n",
        "X_train, X_test, y_train, y_test = train_test_split(X, y, test_size=0.2, shuffle=False)\n",
        "#X_train, X_test, y_train, y_test = np.array(X_train), np.array(X_test), np.array(y_train), np.array(y_test)"
      ],
      "execution_count": 2,
      "outputs": []
    },
    {
      "cell_type": "code",
      "metadata": {
        "colab": {
          "base_uri": "https://localhost:8080/"
        },
        "id": "HVYEmpkk-D-S",
        "outputId": "d225076b-5084-47cb-894a-397bbcda2fc1"
      },
      "source": [
        "# 3) calculate weights because there are so few positive cases\n",
        "from sklearn.utils import class_weight\n",
        "y_train=y_train.values.reshape(7904,)\n",
        "\n",
        "class_weights = class_weight.compute_class_weight('balanced',\n",
        "                                                 np.unique(y_train),\n",
        "                                                 y_train)\n",
        "class_weights = {i : class_weights[i] for i in range(2)}\n",
        "class_weights"
      ],
      "execution_count": 3,
      "outputs": [
        {
          "output_type": "execute_result",
          "data": {
            "text/plain": [
              "{0: 0.5036319612590799, 1: 69.33333333333333}"
            ]
          },
          "metadata": {
            "tags": []
          },
          "execution_count": 3
        }
      ]
    },
    {
      "cell_type": "code",
      "metadata": {
        "id": "K91qar4K-EBg"
      },
      "source": [
        "tf.random.set_seed(7)"
      ],
      "execution_count": 4,
      "outputs": []
    },
    {
      "cell_type": "code",
      "metadata": {
        "id": "i3dDarBZ_n_X"
      },
      "source": [
        "# Simple neural net that DOES work (have to take out time stamp variable though, i.e. above)\n",
        "model = Sequential()\n",
        "model.add(Flatten(input_shape=[10,]))\n",
        "#model.add(keras.layers.BatchNormalization())\n",
        "#model.add(Dense(150, activation='relu'))\n",
        "#model.add(Dense(100, activation='relu'))\n",
        "#model.add(Dense(30, activation='relu'))\n",
        "model.add(Dense(5, activation='relu'))\n",
        "model.add(Dense(1, activation='sigmoid'))"
      ],
      "execution_count": 5,
      "outputs": []
    },
    {
      "cell_type": "code",
      "metadata": {
        "id": "ecN7vEF1_oCE"
      },
      "source": [
        "from keras import backend as K\n",
        "\n",
        "def recall_m(y_true, y_pred):\n",
        "    true_positives = K.sum(K.round(K.clip(y_true * y_pred, 0, 1)))\n",
        "    possible_positives = K.sum(K.round(K.clip(y_true, 0, 1)))\n",
        "    recall = true_positives / (possible_positives + K.epsilon())\n",
        "    return recall\n",
        "\n",
        "def precision_m(y_true, y_pred):\n",
        "    true_positives = K.sum(K.round(K.clip(y_true * y_pred, 0, 1)))\n",
        "    predicted_positives = K.sum(K.round(K.clip(y_pred, 0, 1)))\n",
        "    precision = true_positives / (predicted_positives + K.epsilon())\n",
        "    return precision\n",
        "\n",
        "def f1_m(y_true, y_pred):\n",
        "    precision = precision_m(y_true, y_pred)\n",
        "    recall = recall_m(y_true, y_pred)\n",
        "    return 2*((precision*recall)/(precision+recall+K.epsilon()))"
      ],
      "execution_count": 6,
      "outputs": []
    },
    {
      "cell_type": "code",
      "metadata": {
        "id": "CfaGiaaU_oFI"
      },
      "source": [
        "sgd = keras.optimizers.SGD(lr=0.00001, decay=1e-6, momentum=0.9, nesterov=True)\n",
        "model.compile(loss='binary_crossentropy',\n",
        "              optimizer=sgd,\n",
        "              metrics=['accuracy', f1_m, precision_m, recall_m]) "
      ],
      "execution_count": 7,
      "outputs": []
    },
    {
      "cell_type": "code",
      "metadata": {
        "colab": {
          "base_uri": "https://localhost:8080/"
        },
        "id": "6ReZEthD_wE6",
        "outputId": "3c9870e9-9eb5-47a8-a514-85742d55c55a"
      },
      "source": [
        "history = model.fit(X_train, \n",
        "                    y_train,\n",
        "                    epochs=13, \n",
        "                    batch_size=4,\n",
        "                    class_weight=class_weights,\n",
        "                    validation_data=(X_test, y_test), \n",
        "                    verbose=1)"
      ],
      "execution_count": 8,
      "outputs": [
        {
          "output_type": "stream",
          "text": [
            "Epoch 1/13\n",
            "1976/1976 [==============================] - 3s 1ms/step - loss: 3.7922 - accuracy: 0.3669 - f1_m: 0.0068 - precision_m: 0.0043 - recall_m: 0.0170 - val_loss: 0.0826 - val_accuracy: 0.9843 - val_f1_m: 0.0000e+00 - val_precision_m: 0.0000e+00 - val_recall_m: 0.0000e+00\n",
            "Epoch 2/13\n",
            "1976/1976 [==============================] - 2s 1ms/step - loss: 1.3761 - accuracy: 0.5384 - f1_m: 0.0055 - precision_m: 0.0035 - recall_m: 0.0133 - val_loss: 0.7311 - val_accuracy: 0.2838 - val_f1_m: 0.0177 - val_precision_m: 0.0148 - val_recall_m: 0.0279\n",
            "Epoch 3/13\n",
            "1976/1976 [==============================] - 2s 1ms/step - loss: 1.0660 - accuracy: 0.4079 - f1_m: 0.0079 - precision_m: 0.0051 - recall_m: 0.0186 - val_loss: 0.2347 - val_accuracy: 0.9843 - val_f1_m: 0.0000e+00 - val_precision_m: 0.0000e+00 - val_recall_m: 0.0000e+00\n",
            "Epoch 4/13\n",
            "1976/1976 [==============================] - 2s 1ms/step - loss: 0.8819 - accuracy: 0.4704 - f1_m: 0.0068 - precision_m: 0.0043 - recall_m: 0.0163 - val_loss: 0.5633 - val_accuracy: 0.9717 - val_f1_m: 0.0013 - val_precision_m: 0.0020 - val_recall_m: 0.0010\n",
            "Epoch 5/13\n",
            "1976/1976 [==============================] - 2s 1ms/step - loss: 0.7284 - accuracy: 0.5804 - f1_m: 0.0065 - precision_m: 0.0044 - recall_m: 0.0135 - val_loss: 1.2520 - val_accuracy: 0.0248 - val_f1_m: 0.0214 - val_precision_m: 0.0157 - val_recall_m: 0.0404\n",
            "Epoch 6/13\n",
            "1976/1976 [==============================] - 2s 1ms/step - loss: 0.7094 - accuracy: 0.5738 - f1_m: 0.0071 - precision_m: 0.0052 - recall_m: 0.0142 - val_loss: 1.2122 - val_accuracy: 0.0187 - val_f1_m: 0.0214 - val_precision_m: 0.0157 - val_recall_m: 0.0404\n",
            "Epoch 7/13\n",
            "1976/1976 [==============================] - 2s 1ms/step - loss: 0.7290 - accuracy: 0.5057 - f1_m: 0.0058 - precision_m: 0.0038 - recall_m: 0.0124 - val_loss: 1.2570 - val_accuracy: 0.0157 - val_f1_m: 0.0214 - val_precision_m: 0.0157 - val_recall_m: 0.0404\n",
            "Epoch 8/13\n",
            "1976/1976 [==============================] - 2s 1ms/step - loss: 0.6896 - accuracy: 0.4515 - f1_m: 0.0065 - precision_m: 0.0048 - recall_m: 0.0119 - val_loss: 0.7519 - val_accuracy: 0.1912 - val_f1_m: 0.0204 - val_precision_m: 0.0160 - val_recall_m: 0.0333\n",
            "Epoch 9/13\n",
            "1976/1976 [==============================] - 2s 1ms/step - loss: 0.6591 - accuracy: 0.6485 - f1_m: 0.0052 - precision_m: 0.0039 - recall_m: 0.0093 - val_loss: 1.2337 - val_accuracy: 0.0157 - val_f1_m: 0.0214 - val_precision_m: 0.0157 - val_recall_m: 0.0404\n",
            "Epoch 10/13\n",
            "1976/1976 [==============================] - 2s 1ms/step - loss: 0.6677 - accuracy: 0.5272 - f1_m: 0.0106 - precision_m: 0.0082 - recall_m: 0.0183 - val_loss: 0.6596 - val_accuracy: 0.7162 - val_f1_m: 0.0041 - val_precision_m: 0.0045 - val_recall_m: 0.0040\n",
            "Epoch 11/13\n",
            "1976/1976 [==============================] - 2s 1ms/step - loss: 0.6742 - accuracy: 0.6535 - f1_m: 0.0067 - precision_m: 0.0054 - recall_m: 0.0102 - val_loss: 1.2639 - val_accuracy: 0.0157 - val_f1_m: 0.0214 - val_precision_m: 0.0157 - val_recall_m: 0.0404\n",
            "Epoch 12/13\n",
            "1976/1976 [==============================] - 2s 1ms/step - loss: 0.6358 - accuracy: 0.5269 - f1_m: 0.0066 - precision_m: 0.0047 - recall_m: 0.0116 - val_loss: 1.0617 - val_accuracy: 0.0157 - val_f1_m: 0.0214 - val_precision_m: 0.0157 - val_recall_m: 0.0404\n",
            "Epoch 13/13\n",
            "1976/1976 [==============================] - 2s 1ms/step - loss: 0.6220 - accuracy: 0.5525 - f1_m: 0.0097 - precision_m: 0.0070 - recall_m: 0.0178 - val_loss: 0.6887 - val_accuracy: 0.5529 - val_f1_m: 0.0112 - val_precision_m: 0.0123 - val_recall_m: 0.0128\n"
          ],
          "name": "stdout"
        }
      ]
    },
    {
      "cell_type": "markdown",
      "metadata": {
        "id": "Rs36MnSM-BsR"
      },
      "source": [
        "# Save/Load a `SavedModel`"
      ]
    },
    {
      "cell_type": "code",
      "metadata": {
        "colab": {
          "base_uri": "https://localhost:8080/",
          "height": 35
        },
        "id": "-wqw54Pe9t8P",
        "outputId": "a9d39369-43c4-46a7-eb64-0a1f1be1bd5e"
      },
      "source": [
        "import os\n",
        "model_version = \"0001\"\n",
        "model_name = \"my_cwd_model\"\n",
        "model_path = os.path.join(model_name, model_version)\n",
        "model_path"
      ],
      "execution_count": 9,
      "outputs": [
        {
          "output_type": "execute_result",
          "data": {
            "application/vnd.google.colaboratory.intrinsic+json": {
              "type": "string"
            },
            "text/plain": [
              "'my_cwd_model/0001'"
            ]
          },
          "metadata": {
            "tags": []
          },
          "execution_count": 9
        }
      ]
    },
    {
      "cell_type": "code",
      "metadata": {
        "id": "ewuTgIFq9t-v"
      },
      "source": [
        "!rm -rf {model_name}"
      ],
      "execution_count": 10,
      "outputs": []
    },
    {
      "cell_type": "code",
      "metadata": {
        "colab": {
          "base_uri": "https://localhost:8080/"
        },
        "id": "svCtCzTE9uBj",
        "outputId": "f2b26756-3261-4f0f-c84a-69225f17fb54"
      },
      "source": [
        "tf.saved_model.save(model, model_path)"
      ],
      "execution_count": 11,
      "outputs": [
        {
          "output_type": "stream",
          "text": [
            "INFO:tensorflow:Assets written to: my_cwd_model/0001/assets\n"
          ],
          "name": "stdout"
        }
      ]
    },
    {
      "cell_type": "code",
      "metadata": {
        "colab": {
          "base_uri": "https://localhost:8080/"
        },
        "id": "Ine5h5ToAocO",
        "outputId": "5fc9e52f-ef04-4cad-f32d-5aae92cbb4cf"
      },
      "source": [
        "for root, dirs, files in os.walk(model_name):\n",
        "    indent = '    ' * root.count(os.sep)\n",
        "    print('{}{}/'.format(indent, os.path.basename(root)))\n",
        "    for filename in files:\n",
        "        print('{}{}'.format(indent + '    ', filename))"
      ],
      "execution_count": 12,
      "outputs": [
        {
          "output_type": "stream",
          "text": [
            "my_cwd_model/\n",
            "    0001/\n",
            "        saved_model.pb\n",
            "        assets/\n",
            "        variables/\n",
            "            variables.data-00000-of-00001\n",
            "            variables.index\n"
          ],
          "name": "stdout"
        }
      ]
    },
    {
      "cell_type": "code",
      "metadata": {
        "id": "MX65zRRvAoep"
      },
      "source": [
        "#!saved_model_cli show --dir {model_path}\n",
        "#!saved_model_cli show --dir {model_path} --tag_set serve\n",
        "#!saved_model_cli show --dir {model_path} --tag_set serve \\\n",
        "#                      --signature_def serving_default\n",
        "#!saved_model_cli show --dir {model_path} --all"
      ],
      "execution_count": 13,
      "outputs": []
    },
    {
      "cell_type": "code",
      "metadata": {
        "id": "M1Y4v3OCAohb"
      },
      "source": [
        "# subset something out for testing\n",
        "X_new = X_test[:3]\n",
        "np.save(\"my_cwd_tests.npy\", X_new)"
      ],
      "execution_count": 14,
      "outputs": []
    },
    {
      "cell_type": "code",
      "metadata": {
        "colab": {
          "base_uri": "https://localhost:8080/",
          "height": 35
        },
        "id": "XjLkgsAqAokL",
        "outputId": "14f0b4fd-d3e7-4db0-f756-554175d0051c"
      },
      "source": [
        "input_name = model.input_names[0]\n",
        "input_name"
      ],
      "execution_count": 15,
      "outputs": [
        {
          "output_type": "execute_result",
          "data": {
            "application/vnd.google.colaboratory.intrinsic+json": {
              "type": "string"
            },
            "text/plain": [
              "'flatten_input'"
            ]
          },
          "metadata": {
            "tags": []
          },
          "execution_count": 15
        }
      ]
    },
    {
      "cell_type": "code",
      "metadata": {
        "colab": {
          "base_uri": "https://localhost:8080/"
        },
        "id": "uBHmUxjt9uEO",
        "outputId": "f606a107-0631-4b68-dbcf-118ce9286f30"
      },
      "source": [
        "!saved_model_cli run --dir {model_path} --tag_set serve \\\n",
        "                     --signature_def serving_default    \\\n",
        "                     --inputs {input_name}=my_cwd_tests.npy"
      ],
      "execution_count": 16,
      "outputs": [
        {
          "output_type": "stream",
          "text": [
            "2021-05-02 17:11:56.566376: I tensorflow/stream_executor/platform/default/dso_loader.cc:44] Successfully opened dynamic library libcuda.so.1\n",
            "2021-05-02 17:11:56.576339: E tensorflow/stream_executor/cuda/cuda_driver.cc:351] failed call to cuInit: CUDA_ERROR_NO_DEVICE: no CUDA-capable device is detected\n",
            "2021-05-02 17:11:56.576375: I tensorflow/stream_executor/cuda/cuda_diagnostics.cc:156] kernel driver does not appear to be running on this host (3d6e4b5ac0cf): /proc/driver/nvidia/version does not exist\n",
            "2021-05-02 17:11:56.581357: I tensorflow/core/platform/profile_utils/cpu_utils.cc:94] CPU Frequency: 2299995000 Hz\n",
            "2021-05-02 17:11:56.581646: I tensorflow/compiler/xla/service/service.cc:168] XLA service 0x55fa34616840 initialized for platform Host (this does not guarantee that XLA will be used). Devices:\n",
            "2021-05-02 17:11:56.581682: I tensorflow/compiler/xla/service/service.cc:176]   StreamExecutor device (0): Host, Default Version\n",
            "WARNING: Logging before flag parsing goes to stderr.\n",
            "W0502 17:11:56.583014 139673341593472 deprecation.py:323] From /usr/local/lib/python2.7/dist-packages/tensorflow_core/python/tools/saved_model_cli.py:420: load (from tensorflow.python.saved_model.loader_impl) is deprecated and will be removed in a future version.\n",
            "Instructions for updating:\n",
            "This function will only be available through the v1 compatibility library as tf.compat.v1.saved_model.loader.load or tf.compat.v1.saved_model.load. There will be a new function for importing SavedModels in Tensorflow 2.0.\n",
            "Result for output key dense_1:\n",
            "[[0.4287877 ]\n",
            " [0.45684198]\n",
            " [0.44386566]]\n"
          ],
          "name": "stdout"
        }
      ]
    },
    {
      "cell_type": "code",
      "metadata": {
        "colab": {
          "base_uri": "https://localhost:8080/"
        },
        "id": "oby6TzZaA169",
        "outputId": "0894787e-a265-4f3e-e750-87749df69af7"
      },
      "source": [
        "!zip -r /content/file.zip /content/my_cwd_model/0001"
      ],
      "execution_count": 17,
      "outputs": [
        {
          "output_type": "stream",
          "text": [
            "updating: content/my_cwd_model/0001/ (stored 0%)\n",
            "updating: content/my_cwd_model/0001/assets/ (stored 0%)\n",
            "updating: content/my_cwd_model/0001/variables/ (stored 0%)\n",
            "updating: content/my_cwd_model/0001/variables/variables.data-00000-of-00001 (deflated 67%)\n",
            "updating: content/my_cwd_model/0001/variables/variables.index (deflated 63%)\n",
            "updating: content/my_cwd_model/0001/saved_model.pb (deflated 86%)\n"
          ],
          "name": "stdout"
        }
      ]
    },
    {
      "cell_type": "code",
      "metadata": {
        "id": "ADd-F0J0P525"
      },
      "source": [
        "output_name = model.output_names[0]"
      ],
      "execution_count": 18,
      "outputs": []
    },
    {
      "cell_type": "markdown",
      "metadata": {
        "id": "3TYw1-509vvy"
      },
      "source": [
        "# Deploy to Google Cloud Platform"
      ]
    },
    {
      "cell_type": "code",
      "metadata": {
        "id": "BTNTLDli9uGq"
      },
      "source": [
        "project_id = \"cwd-project-312503\""
      ],
      "execution_count": 19,
      "outputs": []
    },
    {
      "cell_type": "code",
      "metadata": {
        "id": "C1-YE2-T9zeD"
      },
      "source": [
        "import googleapiclient.discovery"
      ],
      "execution_count": 20,
      "outputs": []
    },
    {
      "cell_type": "code",
      "metadata": {
        "id": "il-jZlI5C-E0"
      },
      "source": [
        "import os\n",
        "os.environ[\"GOOGLE_APPLICATION_CREDENTIALS\"] = \"cwd-project-312503-de2ed4945e4c.json\""
      ],
      "execution_count": 21,
      "outputs": []
    },
    {
      "cell_type": "code",
      "metadata": {
        "id": "qdBJRx9_Jm2r"
      },
      "source": [
        "model_id = \"cwd_model_ann\""
      ],
      "execution_count": 22,
      "outputs": []
    },
    {
      "cell_type": "code",
      "metadata": {
        "id": "TdJGue1ZJm5O"
      },
      "source": [
        "model_path = \"projects/{}/models/{}\".format(project_id, model_id)\n",
        "model_path += \"/versions/version_0001/\" # if you want to run a specific version\n",
        "ml_resource = googleapiclient.discovery.build(\"ml\", \"v1\").projects()"
      ],
      "execution_count": 23,
      "outputs": []
    },
    {
      "cell_type": "code",
      "metadata": {
        "id": "akhTVxRy9zgs"
      },
      "source": [
        "def predict(X):\n",
        "    input_data_json = {\"signature_name\": \"serving_default\",\n",
        "                       \"instances\": X.values.tolist()} # added .values before .tolist()\n",
        "    request = ml_resource.predict(name=model_path, body=input_data_json)\n",
        "    response = request.execute()\n",
        "    if \"error\" in response:\n",
        "        raise RuntimeError(response[\"error\"])\n",
        "    return np.array([pred[output_name] for pred in response[\"predictions\"]])"
      ],
      "execution_count": 24,
      "outputs": []
    },
    {
      "cell_type": "code",
      "metadata": {
        "id": "5vMeJXFK9uJ1",
        "colab": {
          "base_uri": "https://localhost:8080/"
        },
        "outputId": "44c4674c-793e-47eb-ef4e-96de0380dcd8"
      },
      "source": [
        "Y_probas = predict(X_new)\n",
        "np.where(np.array(Y_probas) >= 0.5,'positive case','negative case')"
      ],
      "execution_count": 59,
      "outputs": [
        {
          "output_type": "execute_result",
          "data": {
            "text/plain": [
              "array([['negative case'],\n",
              "       ['positive case'],\n",
              "       ['positive case']], dtype='<U13')"
            ]
          },
          "metadata": {
            "tags": []
          },
          "execution_count": 59
        }
      ]
    },
    {
      "cell_type": "code",
      "metadata": {
        "id": "1kU_lu6yJz3M",
        "colab": {
          "base_uri": "https://localhost:8080/",
          "height": 159
        },
        "outputId": "71a8b2fd-94ef-4212-f447-1b865d8f2b6a"
      },
      "source": [
        "# these were the test cases we used in this example\n",
        "X_new"
      ],
      "execution_count": 27,
      "outputs": [
        {
          "output_type": "execute_result",
          "data": {
            "text/html": [
              "<div>\n",
              "<style scoped>\n",
              "    .dataframe tbody tr th:only-of-type {\n",
              "        vertical-align: middle;\n",
              "    }\n",
              "\n",
              "    .dataframe tbody tr th {\n",
              "        vertical-align: top;\n",
              "    }\n",
              "\n",
              "    .dataframe thead th {\n",
              "        text-align: right;\n",
              "    }\n",
              "</style>\n",
              "<table border=\"1\" class=\"dataframe\">\n",
              "  <thead>\n",
              "    <tr style=\"text-align: right;\">\n",
              "      <th></th>\n",
              "      <th>Sample Date</th>\n",
              "      <th>Lat_Cent</th>\n",
              "      <th>Long_Cent</th>\n",
              "      <th>Age</th>\n",
              "      <th>Sex</th>\n",
              "      <th>Active - Hunter Killed</th>\n",
              "      <th>Active - Other</th>\n",
              "      <th>Active - Road-Killed</th>\n",
              "      <th>Targeted - Other</th>\n",
              "      <th>Targeted-Clinical suspect</th>\n",
              "    </tr>\n",
              "  </thead>\n",
              "  <tbody>\n",
              "    <tr>\n",
              "      <th>8138</th>\n",
              "      <td>10</td>\n",
              "      <td>39.200785</td>\n",
              "      <td>-78.243120</td>\n",
              "      <td>5.5</td>\n",
              "      <td>0.0</td>\n",
              "      <td>1</td>\n",
              "      <td>0</td>\n",
              "      <td>0</td>\n",
              "      <td>0</td>\n",
              "      <td>0</td>\n",
              "    </tr>\n",
              "    <tr>\n",
              "      <th>8139</th>\n",
              "      <td>10</td>\n",
              "      <td>39.052790</td>\n",
              "      <td>-78.118726</td>\n",
              "      <td>1.5</td>\n",
              "      <td>0.0</td>\n",
              "      <td>1</td>\n",
              "      <td>0</td>\n",
              "      <td>0</td>\n",
              "      <td>0</td>\n",
              "      <td>0</td>\n",
              "    </tr>\n",
              "    <tr>\n",
              "      <th>8140</th>\n",
              "      <td>10</td>\n",
              "      <td>39.242450</td>\n",
              "      <td>-78.166910</td>\n",
              "      <td>3.5</td>\n",
              "      <td>0.0</td>\n",
              "      <td>1</td>\n",
              "      <td>0</td>\n",
              "      <td>0</td>\n",
              "      <td>0</td>\n",
              "      <td>0</td>\n",
              "    </tr>\n",
              "  </tbody>\n",
              "</table>\n",
              "</div>"
            ],
            "text/plain": [
              "      Sample Date   Lat_Cent  ...  Targeted - Other  Targeted-Clinical suspect\n",
              "8138           10  39.200785  ...                 0                          0\n",
              "8139           10  39.052790  ...                 0                          0\n",
              "8140           10  39.242450  ...                 0                          0\n",
              "\n",
              "[3 rows x 10 columns]"
            ]
          },
          "metadata": {
            "tags": []
          },
          "execution_count": 27
        }
      ]
    },
    {
      "cell_type": "code",
      "metadata": {
        "id": "jc2DpLPnIR_u"
      },
      "source": [
        ""
      ],
      "execution_count": null,
      "outputs": []
    }
  ]
}